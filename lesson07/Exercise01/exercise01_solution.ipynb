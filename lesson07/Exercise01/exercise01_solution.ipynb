{
 "cells": [
  {
   "cell_type": "markdown",
   "metadata": {},
   "source": [
    "## Plotting with Bokeh"
   ]
  },
  {
   "cell_type": "markdown",
   "metadata": {},
   "source": [
    "In this exercise we want to use the higher-level interface which is focused around providing a simple interface for quick visualization creation.   \n",
    "Refer back to the topic about Bokeh in lesson 3 to check back with what we learned about the different interfaces of Bokeh.\n",
    "\n",
    "We will use the plotting interface to get some insights into the population density development of Germany and Switzerland.   \n",
    "We want to check whether the statement of \"continous growth of density\" from lesson 1 is true by visualizing each data point for a specific country.\n",
    "\n",
    "We are already familiar with this exercises dataset since we've used it before in lesson 1.   \n",
    "As a reminder, the world population dataset contains information about the population density of each country for different years."
   ]
  },
  {
   "cell_type": "markdown",
   "metadata": {},
   "source": [
    "#### Loading our dataset"
   ]
  },
  {
   "cell_type": "code",
   "execution_count": 20,
   "metadata": {},
   "outputs": [],
   "source": [
    "# importing the necessary dependencies\n",
    "import pandas as pd\n",
    "from bokeh.plotting import figure, show"
   ]
  },
  {
   "cell_type": "code",
   "execution_count": 21,
   "metadata": {},
   "outputs": [
    {
     "data": {
      "text/html": [
       "\n",
       "    <div class=\"bk-root\">\n",
       "        <a href=\"https://bokeh.pydata.org\" target=\"_blank\" class=\"bk-logo bk-logo-small bk-logo-notebook\"></a>\n",
       "        <span id=\"c14226f9-4c72-4957-95dd-32a385675b24\">Loading BokehJS ...</span>\n",
       "    </div>"
      ]
     },
     "metadata": {},
     "output_type": "display_data"
    },
    {
     "data": {
      "application/javascript": [
       "\n",
       "(function(root) {\n",
       "  function now() {\n",
       "    return new Date();\n",
       "  }\n",
       "\n",
       "  var force = true;\n",
       "\n",
       "  if (typeof (root._bokeh_onload_callbacks) === \"undefined\" || force === true) {\n",
       "    root._bokeh_onload_callbacks = [];\n",
       "    root._bokeh_is_loading = undefined;\n",
       "  }\n",
       "\n",
       "  var JS_MIME_TYPE = 'application/javascript';\n",
       "  var HTML_MIME_TYPE = 'text/html';\n",
       "  var EXEC_MIME_TYPE = 'application/vnd.bokehjs_exec.v0+json';\n",
       "  var CLASS_NAME = 'output_bokeh rendered_html';\n",
       "\n",
       "  /**\n",
       "   * Render data to the DOM node\n",
       "   */\n",
       "  function render(props, node) {\n",
       "    var script = document.createElement(\"script\");\n",
       "    node.appendChild(script);\n",
       "  }\n",
       "\n",
       "  /**\n",
       "   * Handle when an output is cleared or removed\n",
       "   */\n",
       "  function handleClearOutput(event, handle) {\n",
       "    var cell = handle.cell;\n",
       "\n",
       "    var id = cell.output_area._bokeh_element_id;\n",
       "    var server_id = cell.output_area._bokeh_server_id;\n",
       "    // Clean up Bokeh references\n",
       "    if (id != null && id in Bokeh.index) {\n",
       "      Bokeh.index[id].model.document.clear();\n",
       "      delete Bokeh.index[id];\n",
       "    }\n",
       "\n",
       "    if (server_id !== undefined) {\n",
       "      // Clean up Bokeh references\n",
       "      var cmd = \"from bokeh.io.state import curstate; print(curstate().uuid_to_server['\" + server_id + \"'].get_sessions()[0].document.roots[0]._id)\";\n",
       "      cell.notebook.kernel.execute(cmd, {\n",
       "        iopub: {\n",
       "          output: function(msg) {\n",
       "            var id = msg.content.text.trim();\n",
       "            if (id in Bokeh.index) {\n",
       "              Bokeh.index[id].model.document.clear();\n",
       "              delete Bokeh.index[id];\n",
       "            }\n",
       "          }\n",
       "        }\n",
       "      });\n",
       "      // Destroy server and session\n",
       "      var cmd = \"import bokeh.io.notebook as ion; ion.destroy_server('\" + server_id + \"')\";\n",
       "      cell.notebook.kernel.execute(cmd);\n",
       "    }\n",
       "  }\n",
       "\n",
       "  /**\n",
       "   * Handle when a new output is added\n",
       "   */\n",
       "  function handleAddOutput(event, handle) {\n",
       "    var output_area = handle.output_area;\n",
       "    var output = handle.output;\n",
       "\n",
       "    // limit handleAddOutput to display_data with EXEC_MIME_TYPE content only\n",
       "    if ((output.output_type != \"display_data\") || (!output.data.hasOwnProperty(EXEC_MIME_TYPE))) {\n",
       "      return\n",
       "    }\n",
       "\n",
       "    var toinsert = output_area.element.find(\".\" + CLASS_NAME.split(' ')[0]);\n",
       "\n",
       "    if (output.metadata[EXEC_MIME_TYPE][\"id\"] !== undefined) {\n",
       "      toinsert[toinsert.length - 1].firstChild.textContent = output.data[JS_MIME_TYPE];\n",
       "      // store reference to embed id on output_area\n",
       "      output_area._bokeh_element_id = output.metadata[EXEC_MIME_TYPE][\"id\"];\n",
       "    }\n",
       "    if (output.metadata[EXEC_MIME_TYPE][\"server_id\"] !== undefined) {\n",
       "      var bk_div = document.createElement(\"div\");\n",
       "      bk_div.innerHTML = output.data[HTML_MIME_TYPE];\n",
       "      var script_attrs = bk_div.children[0].attributes;\n",
       "      for (var i = 0; i < script_attrs.length; i++) {\n",
       "        toinsert[toinsert.length - 1].firstChild.setAttribute(script_attrs[i].name, script_attrs[i].value);\n",
       "      }\n",
       "      // store reference to server id on output_area\n",
       "      output_area._bokeh_server_id = output.metadata[EXEC_MIME_TYPE][\"server_id\"];\n",
       "    }\n",
       "  }\n",
       "\n",
       "  function register_renderer(events, OutputArea) {\n",
       "\n",
       "    function append_mime(data, metadata, element) {\n",
       "      // create a DOM node to render to\n",
       "      var toinsert = this.create_output_subarea(\n",
       "        metadata,\n",
       "        CLASS_NAME,\n",
       "        EXEC_MIME_TYPE\n",
       "      );\n",
       "      this.keyboard_manager.register_events(toinsert);\n",
       "      // Render to node\n",
       "      var props = {data: data, metadata: metadata[EXEC_MIME_TYPE]};\n",
       "      render(props, toinsert[toinsert.length - 1]);\n",
       "      element.append(toinsert);\n",
       "      return toinsert\n",
       "    }\n",
       "\n",
       "    /* Handle when an output is cleared or removed */\n",
       "    events.on('clear_output.CodeCell', handleClearOutput);\n",
       "    events.on('delete.Cell', handleClearOutput);\n",
       "\n",
       "    /* Handle when a new output is added */\n",
       "    events.on('output_added.OutputArea', handleAddOutput);\n",
       "\n",
       "    /**\n",
       "     * Register the mime type and append_mime function with output_area\n",
       "     */\n",
       "    OutputArea.prototype.register_mime_type(EXEC_MIME_TYPE, append_mime, {\n",
       "      /* Is output safe? */\n",
       "      safe: true,\n",
       "      /* Index of renderer in `output_area.display_order` */\n",
       "      index: 0\n",
       "    });\n",
       "  }\n",
       "\n",
       "  // register the mime type if in Jupyter Notebook environment and previously unregistered\n",
       "  if (root.Jupyter !== undefined) {\n",
       "    var events = require('base/js/events');\n",
       "    var OutputArea = require('notebook/js/outputarea').OutputArea;\n",
       "\n",
       "    if (OutputArea.prototype.mime_types().indexOf(EXEC_MIME_TYPE) == -1) {\n",
       "      register_renderer(events, OutputArea);\n",
       "    }\n",
       "  }\n",
       "\n",
       "  \n",
       "  if (typeof (root._bokeh_timeout) === \"undefined\" || force === true) {\n",
       "    root._bokeh_timeout = Date.now() + 5000;\n",
       "    root._bokeh_failed_load = false;\n",
       "  }\n",
       "\n",
       "  var NB_LOAD_WARNING = {'data': {'text/html':\n",
       "     \"<div style='background-color: #fdd'>\\n\"+\n",
       "     \"<p>\\n\"+\n",
       "     \"BokehJS does not appear to have successfully loaded. If loading BokehJS from CDN, this \\n\"+\n",
       "     \"may be due to a slow or bad network connection. Possible fixes:\\n\"+\n",
       "     \"</p>\\n\"+\n",
       "     \"<ul>\\n\"+\n",
       "     \"<li>re-rerun `output_notebook()` to attempt to load from CDN again, or</li>\\n\"+\n",
       "     \"<li>use INLINE resources instead, as so:</li>\\n\"+\n",
       "     \"</ul>\\n\"+\n",
       "     \"<code>\\n\"+\n",
       "     \"from bokeh.resources import INLINE\\n\"+\n",
       "     \"output_notebook(resources=INLINE)\\n\"+\n",
       "     \"</code>\\n\"+\n",
       "     \"</div>\"}};\n",
       "\n",
       "  function display_loaded() {\n",
       "    var el = document.getElementById(\"c14226f9-4c72-4957-95dd-32a385675b24\");\n",
       "    if (el != null) {\n",
       "      el.textContent = \"BokehJS is loading...\";\n",
       "    }\n",
       "    if (root.Bokeh !== undefined) {\n",
       "      if (el != null) {\n",
       "        el.textContent = \"BokehJS \" + root.Bokeh.version + \" successfully loaded.\";\n",
       "      }\n",
       "    } else if (Date.now() < root._bokeh_timeout) {\n",
       "      setTimeout(display_loaded, 100)\n",
       "    }\n",
       "  }\n",
       "\n",
       "\n",
       "  function run_callbacks() {\n",
       "    try {\n",
       "      root._bokeh_onload_callbacks.forEach(function(callback) { callback() });\n",
       "    }\n",
       "    finally {\n",
       "      delete root._bokeh_onload_callbacks\n",
       "    }\n",
       "    console.info(\"Bokeh: all callbacks have finished\");\n",
       "  }\n",
       "\n",
       "  function load_libs(js_urls, callback) {\n",
       "    root._bokeh_onload_callbacks.push(callback);\n",
       "    if (root._bokeh_is_loading > 0) {\n",
       "      console.log(\"Bokeh: BokehJS is being loaded, scheduling callback at\", now());\n",
       "      return null;\n",
       "    }\n",
       "    if (js_urls == null || js_urls.length === 0) {\n",
       "      run_callbacks();\n",
       "      return null;\n",
       "    }\n",
       "    console.log(\"Bokeh: BokehJS not loaded, scheduling load and callback at\", now());\n",
       "    root._bokeh_is_loading = js_urls.length;\n",
       "    for (var i = 0; i < js_urls.length; i++) {\n",
       "      var url = js_urls[i];\n",
       "      var s = document.createElement('script');\n",
       "      s.src = url;\n",
       "      s.async = false;\n",
       "      s.onreadystatechange = s.onload = function() {\n",
       "        root._bokeh_is_loading--;\n",
       "        if (root._bokeh_is_loading === 0) {\n",
       "          console.log(\"Bokeh: all BokehJS libraries loaded\");\n",
       "          run_callbacks()\n",
       "        }\n",
       "      };\n",
       "      s.onerror = function() {\n",
       "        console.warn(\"failed to load library \" + url);\n",
       "      };\n",
       "      console.log(\"Bokeh: injecting script tag for BokehJS library: \", url);\n",
       "      document.getElementsByTagName(\"head\")[0].appendChild(s);\n",
       "    }\n",
       "  };var element = document.getElementById(\"c14226f9-4c72-4957-95dd-32a385675b24\");\n",
       "  if (element == null) {\n",
       "    console.log(\"Bokeh: ERROR: autoload.js configured with elementid 'c14226f9-4c72-4957-95dd-32a385675b24' but no matching script tag was found. \")\n",
       "    return false;\n",
       "  }\n",
       "\n",
       "  var js_urls = [\"https://cdn.pydata.org/bokeh/release/bokeh-0.13.0.min.js\", \"https://cdn.pydata.org/bokeh/release/bokeh-widgets-0.13.0.min.js\", \"https://cdn.pydata.org/bokeh/release/bokeh-tables-0.13.0.min.js\", \"https://cdn.pydata.org/bokeh/release/bokeh-gl-0.13.0.min.js\"];\n",
       "\n",
       "  var inline_js = [\n",
       "    function(Bokeh) {\n",
       "      Bokeh.set_log_level(\"info\");\n",
       "    },\n",
       "    \n",
       "    function(Bokeh) {\n",
       "      \n",
       "    },\n",
       "    function(Bokeh) {\n",
       "      console.log(\"Bokeh: injecting CSS: https://cdn.pydata.org/bokeh/release/bokeh-0.13.0.min.css\");\n",
       "      Bokeh.embed.inject_css(\"https://cdn.pydata.org/bokeh/release/bokeh-0.13.0.min.css\");\n",
       "      console.log(\"Bokeh: injecting CSS: https://cdn.pydata.org/bokeh/release/bokeh-widgets-0.13.0.min.css\");\n",
       "      Bokeh.embed.inject_css(\"https://cdn.pydata.org/bokeh/release/bokeh-widgets-0.13.0.min.css\");\n",
       "      console.log(\"Bokeh: injecting CSS: https://cdn.pydata.org/bokeh/release/bokeh-tables-0.13.0.min.css\");\n",
       "      Bokeh.embed.inject_css(\"https://cdn.pydata.org/bokeh/release/bokeh-tables-0.13.0.min.css\");\n",
       "    }\n",
       "  ];\n",
       "\n",
       "  function run_inline_js() {\n",
       "    \n",
       "    if ((root.Bokeh !== undefined) || (force === true)) {\n",
       "      for (var i = 0; i < inline_js.length; i++) {\n",
       "        inline_js[i].call(root, root.Bokeh);\n",
       "      }if (force === true) {\n",
       "        display_loaded();\n",
       "      }} else if (Date.now() < root._bokeh_timeout) {\n",
       "      setTimeout(run_inline_js, 100);\n",
       "    } else if (!root._bokeh_failed_load) {\n",
       "      console.log(\"Bokeh: BokehJS failed to load within specified timeout.\");\n",
       "      root._bokeh_failed_load = true;\n",
       "    } else if (force !== true) {\n",
       "      var cell = $(document.getElementById(\"c14226f9-4c72-4957-95dd-32a385675b24\")).parents('.cell').data().cell;\n",
       "      cell.output_area.append_execute_result(NB_LOAD_WARNING)\n",
       "    }\n",
       "\n",
       "  }\n",
       "\n",
       "  if (root._bokeh_is_loading === 0) {\n",
       "    console.log(\"Bokeh: BokehJS loaded, going straight to plotting\");\n",
       "    run_inline_js();\n",
       "  } else {\n",
       "    load_libs(js_urls, function() {\n",
       "      console.log(\"Bokeh: BokehJS plotting callback run at\", now());\n",
       "      run_inline_js();\n",
       "    });\n",
       "  }\n",
       "}(window));"
      ],
      "application/vnd.bokehjs_load.v0+json": "\n(function(root) {\n  function now() {\n    return new Date();\n  }\n\n  var force = true;\n\n  if (typeof (root._bokeh_onload_callbacks) === \"undefined\" || force === true) {\n    root._bokeh_onload_callbacks = [];\n    root._bokeh_is_loading = undefined;\n  }\n\n  \n\n  \n  if (typeof (root._bokeh_timeout) === \"undefined\" || force === true) {\n    root._bokeh_timeout = Date.now() + 5000;\n    root._bokeh_failed_load = false;\n  }\n\n  var NB_LOAD_WARNING = {'data': {'text/html':\n     \"<div style='background-color: #fdd'>\\n\"+\n     \"<p>\\n\"+\n     \"BokehJS does not appear to have successfully loaded. If loading BokehJS from CDN, this \\n\"+\n     \"may be due to a slow or bad network connection. Possible fixes:\\n\"+\n     \"</p>\\n\"+\n     \"<ul>\\n\"+\n     \"<li>re-rerun `output_notebook()` to attempt to load from CDN again, or</li>\\n\"+\n     \"<li>use INLINE resources instead, as so:</li>\\n\"+\n     \"</ul>\\n\"+\n     \"<code>\\n\"+\n     \"from bokeh.resources import INLINE\\n\"+\n     \"output_notebook(resources=INLINE)\\n\"+\n     \"</code>\\n\"+\n     \"</div>\"}};\n\n  function display_loaded() {\n    var el = document.getElementById(\"c14226f9-4c72-4957-95dd-32a385675b24\");\n    if (el != null) {\n      el.textContent = \"BokehJS is loading...\";\n    }\n    if (root.Bokeh !== undefined) {\n      if (el != null) {\n        el.textContent = \"BokehJS \" + root.Bokeh.version + \" successfully loaded.\";\n      }\n    } else if (Date.now() < root._bokeh_timeout) {\n      setTimeout(display_loaded, 100)\n    }\n  }\n\n\n  function run_callbacks() {\n    try {\n      root._bokeh_onload_callbacks.forEach(function(callback) { callback() });\n    }\n    finally {\n      delete root._bokeh_onload_callbacks\n    }\n    console.info(\"Bokeh: all callbacks have finished\");\n  }\n\n  function load_libs(js_urls, callback) {\n    root._bokeh_onload_callbacks.push(callback);\n    if (root._bokeh_is_loading > 0) {\n      console.log(\"Bokeh: BokehJS is being loaded, scheduling callback at\", now());\n      return null;\n    }\n    if (js_urls == null || js_urls.length === 0) {\n      run_callbacks();\n      return null;\n    }\n    console.log(\"Bokeh: BokehJS not loaded, scheduling load and callback at\", now());\n    root._bokeh_is_loading = js_urls.length;\n    for (var i = 0; i < js_urls.length; i++) {\n      var url = js_urls[i];\n      var s = document.createElement('script');\n      s.src = url;\n      s.async = false;\n      s.onreadystatechange = s.onload = function() {\n        root._bokeh_is_loading--;\n        if (root._bokeh_is_loading === 0) {\n          console.log(\"Bokeh: all BokehJS libraries loaded\");\n          run_callbacks()\n        }\n      };\n      s.onerror = function() {\n        console.warn(\"failed to load library \" + url);\n      };\n      console.log(\"Bokeh: injecting script tag for BokehJS library: \", url);\n      document.getElementsByTagName(\"head\")[0].appendChild(s);\n    }\n  };var element = document.getElementById(\"c14226f9-4c72-4957-95dd-32a385675b24\");\n  if (element == null) {\n    console.log(\"Bokeh: ERROR: autoload.js configured with elementid 'c14226f9-4c72-4957-95dd-32a385675b24' but no matching script tag was found. \")\n    return false;\n  }\n\n  var js_urls = [\"https://cdn.pydata.org/bokeh/release/bokeh-0.13.0.min.js\", \"https://cdn.pydata.org/bokeh/release/bokeh-widgets-0.13.0.min.js\", \"https://cdn.pydata.org/bokeh/release/bokeh-tables-0.13.0.min.js\", \"https://cdn.pydata.org/bokeh/release/bokeh-gl-0.13.0.min.js\"];\n\n  var inline_js = [\n    function(Bokeh) {\n      Bokeh.set_log_level(\"info\");\n    },\n    \n    function(Bokeh) {\n      \n    },\n    function(Bokeh) {\n      console.log(\"Bokeh: injecting CSS: https://cdn.pydata.org/bokeh/release/bokeh-0.13.0.min.css\");\n      Bokeh.embed.inject_css(\"https://cdn.pydata.org/bokeh/release/bokeh-0.13.0.min.css\");\n      console.log(\"Bokeh: injecting CSS: https://cdn.pydata.org/bokeh/release/bokeh-widgets-0.13.0.min.css\");\n      Bokeh.embed.inject_css(\"https://cdn.pydata.org/bokeh/release/bokeh-widgets-0.13.0.min.css\");\n      console.log(\"Bokeh: injecting CSS: https://cdn.pydata.org/bokeh/release/bokeh-tables-0.13.0.min.css\");\n      Bokeh.embed.inject_css(\"https://cdn.pydata.org/bokeh/release/bokeh-tables-0.13.0.min.css\");\n    }\n  ];\n\n  function run_inline_js() {\n    \n    if ((root.Bokeh !== undefined) || (force === true)) {\n      for (var i = 0; i < inline_js.length; i++) {\n        inline_js[i].call(root, root.Bokeh);\n      }if (force === true) {\n        display_loaded();\n      }} else if (Date.now() < root._bokeh_timeout) {\n      setTimeout(run_inline_js, 100);\n    } else if (!root._bokeh_failed_load) {\n      console.log(\"Bokeh: BokehJS failed to load within specified timeout.\");\n      root._bokeh_failed_load = true;\n    } else if (force !== true) {\n      var cell = $(document.getElementById(\"c14226f9-4c72-4957-95dd-32a385675b24\")).parents('.cell').data().cell;\n      cell.output_area.append_execute_result(NB_LOAD_WARNING)\n    }\n\n  }\n\n  if (root._bokeh_is_loading === 0) {\n    console.log(\"Bokeh: BokehJS loaded, going straight to plotting\");\n    run_inline_js();\n  } else {\n    load_libs(js_urls, function() {\n      console.log(\"Bokeh: BokehJS plotting callback run at\", now());\n      run_inline_js();\n    });\n  }\n}(window));"
     },
     "metadata": {},
     "output_type": "display_data"
    }
   ],
   "source": [
    "# make bokeh display figures inside the notebook\n",
    "from bokeh.io import output_notebook\n",
    "\n",
    "output_notebook()"
   ]
  },
  {
   "cell_type": "markdown",
   "metadata": {},
   "source": [
    "**Note:**   \n",
    "The cell above allows us to plot the bokeh visualizations inline in the notebook. By default it will open a new tab in your browser window with the plot."
   ]
  },
  {
   "cell_type": "code",
   "execution_count": 3,
   "metadata": {},
   "outputs": [],
   "source": [
    "# loading the Dataset with geoplotlib\n",
    "dataset = pd.read_csv('./data/world_population.csv', index_col=0)"
   ]
  },
  {
   "cell_type": "code",
   "execution_count": 22,
   "metadata": {},
   "outputs": [
    {
     "data": {
      "text/html": [
       "<div>\n",
       "<style scoped>\n",
       "    .dataframe tbody tr th:only-of-type {\n",
       "        vertical-align: middle;\n",
       "    }\n",
       "\n",
       "    .dataframe tbody tr th {\n",
       "        vertical-align: top;\n",
       "    }\n",
       "\n",
       "    .dataframe thead th {\n",
       "        text-align: right;\n",
       "    }\n",
       "</style>\n",
       "<table border=\"1\" class=\"dataframe\">\n",
       "  <thead>\n",
       "    <tr style=\"text-align: right;\">\n",
       "      <th></th>\n",
       "      <th>Country Code</th>\n",
       "      <th>Indicator Name</th>\n",
       "      <th>Indicator Code</th>\n",
       "      <th>1960</th>\n",
       "      <th>1961</th>\n",
       "      <th>1962</th>\n",
       "      <th>1963</th>\n",
       "      <th>1964</th>\n",
       "      <th>1965</th>\n",
       "      <th>1966</th>\n",
       "      <th>...</th>\n",
       "      <th>2007</th>\n",
       "      <th>2008</th>\n",
       "      <th>2009</th>\n",
       "      <th>2010</th>\n",
       "      <th>2011</th>\n",
       "      <th>2012</th>\n",
       "      <th>2013</th>\n",
       "      <th>2014</th>\n",
       "      <th>2015</th>\n",
       "      <th>2016</th>\n",
       "    </tr>\n",
       "    <tr>\n",
       "      <th>Country Name</th>\n",
       "      <th></th>\n",
       "      <th></th>\n",
       "      <th></th>\n",
       "      <th></th>\n",
       "      <th></th>\n",
       "      <th></th>\n",
       "      <th></th>\n",
       "      <th></th>\n",
       "      <th></th>\n",
       "      <th></th>\n",
       "      <th></th>\n",
       "      <th></th>\n",
       "      <th></th>\n",
       "      <th></th>\n",
       "      <th></th>\n",
       "      <th></th>\n",
       "      <th></th>\n",
       "      <th></th>\n",
       "      <th></th>\n",
       "      <th></th>\n",
       "      <th></th>\n",
       "    </tr>\n",
       "  </thead>\n",
       "  <tbody>\n",
       "    <tr>\n",
       "      <th>Aruba</th>\n",
       "      <td>ABW</td>\n",
       "      <td>Population density (people per sq. km of land ...</td>\n",
       "      <td>EN.POP.DNST</td>\n",
       "      <td>NaN</td>\n",
       "      <td>307.972222</td>\n",
       "      <td>312.366667</td>\n",
       "      <td>314.983333</td>\n",
       "      <td>316.827778</td>\n",
       "      <td>318.666667</td>\n",
       "      <td>320.622222</td>\n",
       "      <td>...</td>\n",
       "      <td>562.322222</td>\n",
       "      <td>563.011111</td>\n",
       "      <td>563.422222</td>\n",
       "      <td>564.427778</td>\n",
       "      <td>566.311111</td>\n",
       "      <td>568.850000</td>\n",
       "      <td>571.783333</td>\n",
       "      <td>574.672222</td>\n",
       "      <td>577.161111</td>\n",
       "      <td>NaN</td>\n",
       "    </tr>\n",
       "    <tr>\n",
       "      <th>Andorra</th>\n",
       "      <td>AND</td>\n",
       "      <td>Population density (people per sq. km of land ...</td>\n",
       "      <td>EN.POP.DNST</td>\n",
       "      <td>NaN</td>\n",
       "      <td>30.587234</td>\n",
       "      <td>32.714894</td>\n",
       "      <td>34.914894</td>\n",
       "      <td>37.170213</td>\n",
       "      <td>39.470213</td>\n",
       "      <td>41.800000</td>\n",
       "      <td>...</td>\n",
       "      <td>180.591489</td>\n",
       "      <td>182.161702</td>\n",
       "      <td>181.859574</td>\n",
       "      <td>179.614894</td>\n",
       "      <td>175.161702</td>\n",
       "      <td>168.757447</td>\n",
       "      <td>161.493617</td>\n",
       "      <td>154.863830</td>\n",
       "      <td>149.942553</td>\n",
       "      <td>NaN</td>\n",
       "    </tr>\n",
       "    <tr>\n",
       "      <th>Afghanistan</th>\n",
       "      <td>AFG</td>\n",
       "      <td>Population density (people per sq. km of land ...</td>\n",
       "      <td>EN.POP.DNST</td>\n",
       "      <td>NaN</td>\n",
       "      <td>14.038148</td>\n",
       "      <td>14.312061</td>\n",
       "      <td>14.599692</td>\n",
       "      <td>14.901579</td>\n",
       "      <td>15.218206</td>\n",
       "      <td>15.545203</td>\n",
       "      <td>...</td>\n",
       "      <td>39.637202</td>\n",
       "      <td>40.634655</td>\n",
       "      <td>41.674005</td>\n",
       "      <td>42.830327</td>\n",
       "      <td>44.127634</td>\n",
       "      <td>45.533197</td>\n",
       "      <td>46.997059</td>\n",
       "      <td>48.444546</td>\n",
       "      <td>49.821649</td>\n",
       "      <td>NaN</td>\n",
       "    </tr>\n",
       "    <tr>\n",
       "      <th>Angola</th>\n",
       "      <td>AGO</td>\n",
       "      <td>Population density (people per sq. km of land ...</td>\n",
       "      <td>EN.POP.DNST</td>\n",
       "      <td>NaN</td>\n",
       "      <td>4.305195</td>\n",
       "      <td>4.384299</td>\n",
       "      <td>4.464433</td>\n",
       "      <td>4.544558</td>\n",
       "      <td>4.624228</td>\n",
       "      <td>4.703271</td>\n",
       "      <td>...</td>\n",
       "      <td>15.387749</td>\n",
       "      <td>15.915819</td>\n",
       "      <td>16.459536</td>\n",
       "      <td>17.020898</td>\n",
       "      <td>17.600302</td>\n",
       "      <td>18.196544</td>\n",
       "      <td>18.808215</td>\n",
       "      <td>19.433323</td>\n",
       "      <td>20.070565</td>\n",
       "      <td>NaN</td>\n",
       "    </tr>\n",
       "    <tr>\n",
       "      <th>Albania</th>\n",
       "      <td>ALB</td>\n",
       "      <td>Population density (people per sq. km of land ...</td>\n",
       "      <td>EN.POP.DNST</td>\n",
       "      <td>NaN</td>\n",
       "      <td>60.576642</td>\n",
       "      <td>62.456898</td>\n",
       "      <td>64.329234</td>\n",
       "      <td>66.209307</td>\n",
       "      <td>68.058066</td>\n",
       "      <td>69.874927</td>\n",
       "      <td>...</td>\n",
       "      <td>108.394781</td>\n",
       "      <td>107.566204</td>\n",
       "      <td>106.843759</td>\n",
       "      <td>106.314635</td>\n",
       "      <td>106.013869</td>\n",
       "      <td>105.848431</td>\n",
       "      <td>105.717226</td>\n",
       "      <td>105.607810</td>\n",
       "      <td>105.444051</td>\n",
       "      <td>NaN</td>\n",
       "    </tr>\n",
       "  </tbody>\n",
       "</table>\n",
       "<p>5 rows × 60 columns</p>\n",
       "</div>"
      ],
      "text/plain": [
       "             Country Code                                     Indicator Name  \\\n",
       "Country Name                                                                   \n",
       "Aruba                 ABW  Population density (people per sq. km of land ...   \n",
       "Andorra               AND  Population density (people per sq. km of land ...   \n",
       "Afghanistan           AFG  Population density (people per sq. km of land ...   \n",
       "Angola                AGO  Population density (people per sq. km of land ...   \n",
       "Albania               ALB  Population density (people per sq. km of land ...   \n",
       "\n",
       "             Indicator Code  1960        1961        1962        1963  \\\n",
       "Country Name                                                            \n",
       "Aruba           EN.POP.DNST   NaN  307.972222  312.366667  314.983333   \n",
       "Andorra         EN.POP.DNST   NaN   30.587234   32.714894   34.914894   \n",
       "Afghanistan     EN.POP.DNST   NaN   14.038148   14.312061   14.599692   \n",
       "Angola          EN.POP.DNST   NaN    4.305195    4.384299    4.464433   \n",
       "Albania         EN.POP.DNST   NaN   60.576642   62.456898   64.329234   \n",
       "\n",
       "                    1964        1965        1966  ...         2007  \\\n",
       "Country Name                                      ...                \n",
       "Aruba         316.827778  318.666667  320.622222  ...   562.322222   \n",
       "Andorra        37.170213   39.470213   41.800000  ...   180.591489   \n",
       "Afghanistan    14.901579   15.218206   15.545203  ...    39.637202   \n",
       "Angola          4.544558    4.624228    4.703271  ...    15.387749   \n",
       "Albania        66.209307   68.058066   69.874927  ...   108.394781   \n",
       "\n",
       "                    2008        2009        2010        2011        2012  \\\n",
       "Country Name                                                               \n",
       "Aruba         563.011111  563.422222  564.427778  566.311111  568.850000   \n",
       "Andorra       182.161702  181.859574  179.614894  175.161702  168.757447   \n",
       "Afghanistan    40.634655   41.674005   42.830327   44.127634   45.533197   \n",
       "Angola         15.915819   16.459536   17.020898   17.600302   18.196544   \n",
       "Albania       107.566204  106.843759  106.314635  106.013869  105.848431   \n",
       "\n",
       "                    2013        2014        2015  2016  \n",
       "Country Name                                            \n",
       "Aruba         571.783333  574.672222  577.161111   NaN  \n",
       "Andorra       161.493617  154.863830  149.942553   NaN  \n",
       "Afghanistan    46.997059   48.444546   49.821649   NaN  \n",
       "Angola         18.808215   19.433323   20.070565   NaN  \n",
       "Albania       105.717226  105.607810  105.444051   NaN  \n",
       "\n",
       "[5 rows x 60 columns]"
      ]
     },
     "execution_count": 22,
     "metadata": {},
     "output_type": "execute_result"
    }
   ],
   "source": [
    "# looking at the dataset\n",
    "dataset.head()"
   ]
  },
  {
   "cell_type": "markdown",
   "metadata": {},
   "source": [
    "---"
   ]
  },
  {
   "cell_type": "markdown",
   "metadata": {},
   "source": [
    "#### Plotting the first data"
   ]
  },
  {
   "cell_type": "markdown",
   "metadata": {},
   "source": [
    "Before we are able to plot the line that displays the population density growth of Germany, we need to do some data extraction.   \n",
    "In this case we only want to have the column headers that are years in order to later retrieve the values for those years from our dataset for the given country.   \n",
    "When looking at our dataset, we can see that only the columns that are years start with a numerical character. We can use this knowledge in order to write a filter condition using list comprehension.   \n",
    "\n",
    "Once we have the years extracted, we can use this list of years to retrieve the values for given years from our country row of the dataset using the `loc` method which we got to know in the first lesson.   \n",
    "Again, we will use a list comprehension to extract that kind of knowledge from our dataframe."
   ]
  },
  {
   "cell_type": "code",
   "execution_count": 23,
   "metadata": {},
   "outputs": [],
   "source": [
    "# preparing our data for Germany\n",
    "years = [year for year in dataset.columns if not year[0].isalpha()]\n",
    "de_vals = [dataset.loc[['Germany']][year] for year in years]"
   ]
  },
  {
   "cell_type": "markdown",
   "metadata": {},
   "source": [
    "After preparing the data to be plotted, we can set up our visualization by first defining a plot using the `figure` method.   \n",
    "This is the place where we can define the `title` and the text for the `x` and `y` axis of our plot.   \n",
    "\n",
    "Once we have defined our plot figure, we can then add \"*layers*\" onto that plot.   \n",
    "There are several pre-defined visualizations incorporated.   \n",
    "- Lines\n",
    "- Scatters\n",
    "- Bars\n",
    "- Patches\n",
    "\n",
    "> You can find even more in the official documentaion: https://bokeh.pydata.org/en/latest/docs/user_guide/plotting.html#userguide-plotting\n",
    "\n",
    "\n",
    "Comparable to Matplotlib, the final call to display is done with the `show` method.   \n",
    "By default, this will open a new browser window/tab displaying the visualization. However since we're using `output_notebook` here, it will be embeded into this notebook."
   ]
  },
  {
   "cell_type": "code",
   "execution_count": 24,
   "metadata": {},
   "outputs": [
    {
     "data": {
      "text/html": [
       "\n",
       "\n",
       "\n",
       "\n",
       "\n",
       "\n",
       "  <div class=\"bk-root\" id=\"7ce1bcb6-d585-4c54-97ce-6e54269ca72d\"></div>\n"
      ]
     },
     "metadata": {},
     "output_type": "display_data"
    },
    {
     "data": {
      "application/javascript": [
       "(function(root) {\n",
       "  function embed_document(root) {\n",
       "    \n",
       "  var docs_json = {\"60f12d0a-2deb-42f4-92e5-016dc0bc101a\":{\"roots\":{\"references\":[{\"attributes\":{},\"id\":\"4dea92c3-6ca3-4421-9cba-1dba571548be\",\"type\":\"LinearScale\"},{\"attributes\":{\"callback\":null,\"data\":{\"x\":[\"1960\",\"1961\",\"1962\",\"1963\",\"1964\",\"1965\",\"1966\",\"1967\",\"1968\",\"1969\",\"1970\",\"1971\",\"1972\",\"1973\",\"1974\",\"1975\",\"1976\",\"1977\",\"1978\",\"1979\",\"1980\",\"1981\",\"1982\",\"1983\",\"1984\",\"1985\",\"1986\",\"1987\",\"1988\",\"1989\",\"1990\",\"1991\",\"1992\",\"1993\",\"1994\",\"1995\",\"1996\",\"1997\",\"1998\",\"1999\",\"2000\",\"2001\",\"2002\",\"2003\",\"2004\",\"2005\",\"2006\",\"2007\",\"2008\",\"2009\",\"2010\",\"2011\",\"2012\",\"2013\",\"2014\",\"2015\",\"2016\"],\"y\":[[\"NaN\"],[210.172806690917],[212.02928422077701],[214.00152665196302],[215.731495431501],[217.579970211669],[219.40340560822602],[220.40883338584499],[221.391212442357],[223.15378798728298],[223.897370606937],[224.308544095323],[225.384389768854],[226.095339844757],[226.183464612036],[225.341717984705],[224.377595737977],[223.870231718844],[223.675479047919],[223.774382035345],[224.239039899178],[224.580835218973],[224.367330220835],[223.77991579067998],[223.00771918769502],[222.50987597742997],[222.61173774811698],[222.953971300089],[223.826709248704],[225.564354251998],[227.517053819494],[229.18080944061],[230.930020336264],[232.45979319431703],[233.27417719343498],[233.96749069034698],[234.65247070955897],[235.022979515829],[235.07877772047402],[235.25773110206902],[235.596813297034],[236.027300085985],[236.45157083070598],[236.61642728132801],[236.592195429653],[236.464680582636],[236.225197866483],[235.94336191814602],[235.522178240542],[234.93963741717099],[234.60690822503398],[234.673149529493],[230.750625466231],[235.647997360418],[232.347793653526],[233.583362024445],[\"NaN\"]]},\"selected\":{\"id\":\"2f82f589-d61a-4880-9f04-0dec10c50db5\",\"type\":\"Selection\"},\"selection_policy\":{\"id\":\"1cc65114-816c-4782-b9de-893a66e6a3b5\",\"type\":\"UnionRenderers\"}},\"id\":\"20200e4d-485a-40be-baf7-e8e9b4cf2ec7\",\"type\":\"ColumnDataSource\"},{\"attributes\":{},\"id\":\"3a38ef58-6ed2-495d-80c7-9b4841081dae\",\"type\":\"LinearScale\"},{\"attributes\":{\"line_alpha\":0.1,\"line_color\":\"#1f77b4\",\"line_width\":2,\"x\":{\"field\":\"x\"},\"y\":{\"field\":\"y\"}},\"id\":\"d17f7673-a725-4c07-a91c-c584c05e0913\",\"type\":\"Line\"},{\"attributes\":{\"line_color\":\"#1f77b4\",\"line_width\":2,\"x\":{\"field\":\"x\"},\"y\":{\"field\":\"y\"}},\"id\":\"1888c50e-96ca-4daf-bfde-d8a82f74ba80\",\"type\":\"Line\"},{\"attributes\":{},\"id\":\"2873ec1f-0f82-436f-84d7-5d98c493a353\",\"type\":\"BasicTicker\"},{\"attributes\":{\"active_drag\":\"auto\",\"active_inspect\":\"auto\",\"active_multi\":null,\"active_scroll\":\"auto\",\"active_tap\":\"auto\",\"tools\":[{\"id\":\"07c4b26d-bb70-48c8-b020-02c463133dd3\",\"type\":\"PanTool\"},{\"id\":\"64a33093-4d33-40d4-a100-3d6898759a59\",\"type\":\"WheelZoomTool\"},{\"id\":\"c0e374f9-1ec6-4730-a3b2-1b59ce97bc5f\",\"type\":\"BoxZoomTool\"},{\"id\":\"fbdef176-c332-4a17-ba72-9d4fd83c4b3b\",\"type\":\"SaveTool\"},{\"id\":\"63ee2fa1-a623-4623-a40b-d8e446965a27\",\"type\":\"ResetTool\"},{\"id\":\"1b88bdfb-827b-49f7-9ff9-f9cfec91f843\",\"type\":\"HelpTool\"}]},\"id\":\"4710203f-c202-48e8-963c-dc41d4522b62\",\"type\":\"Toolbar\"},{\"attributes\":{\"plot\":{\"id\":\"ae53d526-df16-41aa-bc26-f54340f2ea0b\",\"subtype\":\"Figure\",\"type\":\"Plot\"},\"ticker\":{\"id\":\"2873ec1f-0f82-436f-84d7-5d98c493a353\",\"type\":\"BasicTicker\"}},\"id\":\"ab73d407-ae1c-4d30-af09-486c498d7f4e\",\"type\":\"Grid\"},{\"attributes\":{\"plot\":null,\"text\":\"Population Density of Germany\"},\"id\":\"73044d60-fadf-4ffe-a4ec-549b141fe9a3\",\"type\":\"Title\"},{\"attributes\":{\"axis_label\":\"Population Density\",\"formatter\":{\"id\":\"354fcef4-0e61-41fc-94f2-03c4b83913f9\",\"type\":\"BasicTickFormatter\"},\"plot\":{\"id\":\"ae53d526-df16-41aa-bc26-f54340f2ea0b\",\"subtype\":\"Figure\",\"type\":\"Plot\"},\"ticker\":{\"id\":\"2c2cd032-ffff-4491-9ddf-ce8e478b3580\",\"type\":\"BasicTicker\"}},\"id\":\"4915e46e-ad1c-4209-be0d-1ace8c4516c1\",\"type\":\"LinearAxis\"},{\"attributes\":{},\"id\":\"2c2cd032-ffff-4491-9ddf-ce8e478b3580\",\"type\":\"BasicTicker\"},{\"attributes\":{\"callback\":null},\"id\":\"4f74fd14-3892-4d97-b605-f7ed1d590656\",\"type\":\"DataRange1d\"},{\"attributes\":{\"dimension\":1,\"plot\":{\"id\":\"ae53d526-df16-41aa-bc26-f54340f2ea0b\",\"subtype\":\"Figure\",\"type\":\"Plot\"},\"ticker\":{\"id\":\"2c2cd032-ffff-4491-9ddf-ce8e478b3580\",\"type\":\"BasicTicker\"}},\"id\":\"64d7af7d-9c7e-4f16-b05c-c00409827783\",\"type\":\"Grid\"},{\"attributes\":{},\"id\":\"1cc65114-816c-4782-b9de-893a66e6a3b5\",\"type\":\"UnionRenderers\"},{\"attributes\":{\"source\":{\"id\":\"20200e4d-485a-40be-baf7-e8e9b4cf2ec7\",\"type\":\"ColumnDataSource\"}},\"id\":\"6b4dcbdb-8ce4-4da0-8d18-2f0900b7a599\",\"type\":\"CDSView\"},{\"attributes\":{\"data_source\":{\"id\":\"20200e4d-485a-40be-baf7-e8e9b4cf2ec7\",\"type\":\"ColumnDataSource\"},\"glyph\":{\"id\":\"1888c50e-96ca-4daf-bfde-d8a82f74ba80\",\"type\":\"Line\"},\"hover_glyph\":null,\"muted_glyph\":null,\"nonselection_glyph\":{\"id\":\"d17f7673-a725-4c07-a91c-c584c05e0913\",\"type\":\"Line\"},\"selection_glyph\":null,\"view\":{\"id\":\"6b4dcbdb-8ce4-4da0-8d18-2f0900b7a599\",\"type\":\"CDSView\"}},\"id\":\"40ec9347-b033-492b-af3a-2fec4744e512\",\"type\":\"GlyphRenderer\"},{\"attributes\":{\"label\":{\"value\":\"Germany\"},\"renderers\":[{\"id\":\"40ec9347-b033-492b-af3a-2fec4744e512\",\"type\":\"GlyphRenderer\"}]},\"id\":\"1d9c8dd1-fbf3-4207-9a47-a3e80387077f\",\"type\":\"LegendItem\"},{\"attributes\":{},\"id\":\"07c4b26d-bb70-48c8-b020-02c463133dd3\",\"type\":\"PanTool\"},{\"attributes\":{},\"id\":\"2f82f589-d61a-4880-9f04-0dec10c50db5\",\"type\":\"Selection\"},{\"attributes\":{\"below\":[{\"id\":\"9d27a91e-cfcd-440e-bb72-383fe6baf0fe\",\"type\":\"LinearAxis\"}],\"left\":[{\"id\":\"4915e46e-ad1c-4209-be0d-1ace8c4516c1\",\"type\":\"LinearAxis\"}],\"renderers\":[{\"id\":\"9d27a91e-cfcd-440e-bb72-383fe6baf0fe\",\"type\":\"LinearAxis\"},{\"id\":\"ab73d407-ae1c-4d30-af09-486c498d7f4e\",\"type\":\"Grid\"},{\"id\":\"4915e46e-ad1c-4209-be0d-1ace8c4516c1\",\"type\":\"LinearAxis\"},{\"id\":\"64d7af7d-9c7e-4f16-b05c-c00409827783\",\"type\":\"Grid\"},{\"id\":\"6959d9bd-602b-4ecb-ac5e-ed967aedaedd\",\"type\":\"BoxAnnotation\"},{\"id\":\"af96578f-eef9-4dbe-8b22-b87ad01ea733\",\"type\":\"Legend\"},{\"id\":\"40ec9347-b033-492b-af3a-2fec4744e512\",\"type\":\"GlyphRenderer\"}],\"title\":{\"id\":\"73044d60-fadf-4ffe-a4ec-549b141fe9a3\",\"type\":\"Title\"},\"toolbar\":{\"id\":\"4710203f-c202-48e8-963c-dc41d4522b62\",\"type\":\"Toolbar\"},\"x_range\":{\"id\":\"4f74fd14-3892-4d97-b605-f7ed1d590656\",\"type\":\"DataRange1d\"},\"x_scale\":{\"id\":\"4dea92c3-6ca3-4421-9cba-1dba571548be\",\"type\":\"LinearScale\"},\"y_range\":{\"id\":\"c2cd4aa6-388c-4588-846e-c262129dc2d5\",\"type\":\"DataRange1d\"},\"y_scale\":{\"id\":\"3a38ef58-6ed2-495d-80c7-9b4841081dae\",\"type\":\"LinearScale\"}},\"id\":\"ae53d526-df16-41aa-bc26-f54340f2ea0b\",\"subtype\":\"Figure\",\"type\":\"Plot\"},{\"attributes\":{},\"id\":\"354fcef4-0e61-41fc-94f2-03c4b83913f9\",\"type\":\"BasicTickFormatter\"},{\"attributes\":{\"items\":[{\"id\":\"1d9c8dd1-fbf3-4207-9a47-a3e80387077f\",\"type\":\"LegendItem\"}],\"plot\":{\"id\":\"ae53d526-df16-41aa-bc26-f54340f2ea0b\",\"subtype\":\"Figure\",\"type\":\"Plot\"}},\"id\":\"af96578f-eef9-4dbe-8b22-b87ad01ea733\",\"type\":\"Legend\"},{\"attributes\":{\"overlay\":{\"id\":\"6959d9bd-602b-4ecb-ac5e-ed967aedaedd\",\"type\":\"BoxAnnotation\"}},\"id\":\"c0e374f9-1ec6-4730-a3b2-1b59ce97bc5f\",\"type\":\"BoxZoomTool\"},{\"attributes\":{},\"id\":\"fbdef176-c332-4a17-ba72-9d4fd83c4b3b\",\"type\":\"SaveTool\"},{\"attributes\":{},\"id\":\"63ee2fa1-a623-4623-a40b-d8e446965a27\",\"type\":\"ResetTool\"},{\"attributes\":{\"callback\":null},\"id\":\"c2cd4aa6-388c-4588-846e-c262129dc2d5\",\"type\":\"DataRange1d\"},{\"attributes\":{},\"id\":\"1b88bdfb-827b-49f7-9ff9-f9cfec91f843\",\"type\":\"HelpTool\"},{\"attributes\":{},\"id\":\"64a33093-4d33-40d4-a100-3d6898759a59\",\"type\":\"WheelZoomTool\"},{\"attributes\":{},\"id\":\"e8f6789e-e120-4e81-b2b9-5aee5cb56698\",\"type\":\"BasicTickFormatter\"},{\"attributes\":{\"bottom_units\":\"screen\",\"fill_alpha\":{\"value\":0.5},\"fill_color\":{\"value\":\"lightgrey\"},\"left_units\":\"screen\",\"level\":\"overlay\",\"line_alpha\":{\"value\":1.0},\"line_color\":{\"value\":\"black\"},\"line_dash\":[4,4],\"line_width\":{\"value\":2},\"plot\":null,\"render_mode\":\"css\",\"right_units\":\"screen\",\"top_units\":\"screen\"},\"id\":\"6959d9bd-602b-4ecb-ac5e-ed967aedaedd\",\"type\":\"BoxAnnotation\"},{\"attributes\":{\"axis_label\":\"Year\",\"formatter\":{\"id\":\"e8f6789e-e120-4e81-b2b9-5aee5cb56698\",\"type\":\"BasicTickFormatter\"},\"plot\":{\"id\":\"ae53d526-df16-41aa-bc26-f54340f2ea0b\",\"subtype\":\"Figure\",\"type\":\"Plot\"},\"ticker\":{\"id\":\"2873ec1f-0f82-436f-84d7-5d98c493a353\",\"type\":\"BasicTicker\"}},\"id\":\"9d27a91e-cfcd-440e-bb72-383fe6baf0fe\",\"type\":\"LinearAxis\"}],\"root_ids\":[\"ae53d526-df16-41aa-bc26-f54340f2ea0b\"]},\"title\":\"Bokeh Application\",\"version\":\"0.13.0\"}};\n",
       "  var render_items = [{\"docid\":\"60f12d0a-2deb-42f4-92e5-016dc0bc101a\",\"roots\":{\"ae53d526-df16-41aa-bc26-f54340f2ea0b\":\"7ce1bcb6-d585-4c54-97ce-6e54269ca72d\"}}];\n",
       "  root.Bokeh.embed.embed_items_notebook(docs_json, render_items);\n",
       "\n",
       "  }\n",
       "  if (root.Bokeh !== undefined) {\n",
       "    embed_document(root);\n",
       "  } else {\n",
       "    var attempts = 0;\n",
       "    var timer = setInterval(function(root) {\n",
       "      if (root.Bokeh !== undefined) {\n",
       "        embed_document(root);\n",
       "        clearInterval(timer);\n",
       "      }\n",
       "      attempts++;\n",
       "      if (attempts > 100) {\n",
       "        console.log(\"Bokeh: ERROR: Unable to run BokehJS code because BokehJS library is missing\")\n",
       "        clearInterval(timer);\n",
       "      }\n",
       "    }, 10, root)\n",
       "  }\n",
       "})(window);"
      ],
      "application/vnd.bokehjs_exec.v0+json": ""
     },
     "metadata": {
      "application/vnd.bokehjs_exec.v0+json": {
       "id": "ae53d526-df16-41aa-bc26-f54340f2ea0b"
      }
     },
     "output_type": "display_data"
    }
   ],
   "source": [
    "# plotting the population density change in Germany in the given years\n",
    "plot = figure(title='Population Density of Germany', x_axis_label='Year', y_axis_label='Population Density')\n",
    "\n",
    "plot.line(years, de_vals, line_width=2, legend='Germany')\n",
    "\n",
    "show(plot)"
   ]
  },
  {
   "cell_type": "markdown",
   "metadata": {},
   "source": [
    "**Note:**   \n",
    "Note that the amount of data points in the first and second argument passed to the plotting methods has to be the same.   \n",
    "If your `x` list has 10 values, your `y` list also has to have 10 values."
   ]
  },
  {
   "cell_type": "markdown",
   "metadata": {},
   "source": [
    "---"
   ]
  },
  {
   "cell_type": "markdown",
   "metadata": {},
   "source": [
    "#### Simple plotting with geoplotlib"
   ]
  },
  {
   "cell_type": "markdown",
   "metadata": {},
   "source": [
    "When using bokehs high-level plotting interface, we are able to display several graphs in one plot.   \n",
    "This means that we can simply add different layers on top of each other to create more comlex constructs.   \n",
    "In our case, we want to add the population denstiy development of Switzerland on top of the one from Germany.  \n",
    "We also want to visually distinguish them from each other by using different colors and also adding a different graph style to our Switzerland line.   \n",
    "\n",
    "We first need to filter our data to extract the data of Switzerland.   \n",
    "After we've done that, we can use the same technique we saw in the first task to plot the line."
   ]
  },
  {
   "cell_type": "code",
   "execution_count": 12,
   "metadata": {},
   "outputs": [],
   "source": [
    "# preparing the data for the second country\n",
    "ch_vals = [dataset.loc[['Switzerland']][year] for year in years]"
   ]
  },
  {
   "cell_type": "code",
   "execution_count": 25,
   "metadata": {},
   "outputs": [
    {
     "data": {
      "text/html": [
       "\n",
       "\n",
       "\n",
       "\n",
       "\n",
       "\n",
       "  <div class=\"bk-root\" id=\"28b9668d-9990-4365-ba13-a266c30f7e56\"></div>\n"
      ]
     },
     "metadata": {},
     "output_type": "display_data"
    },
    {
     "data": {
      "application/javascript": [
       "(function(root) {\n",
       "  function embed_document(root) {\n",
       "    \n",
       "  var docs_json = {\"5c8876bb-a21b-467b-93f8-525eab4d86e9\":{\"roots\":{\"references\":[{\"attributes\":{\"bottom_units\":\"screen\",\"fill_alpha\":{\"value\":0.5},\"fill_color\":{\"value\":\"lightgrey\"},\"left_units\":\"screen\",\"level\":\"overlay\",\"line_alpha\":{\"value\":1.0},\"line_color\":{\"value\":\"black\"},\"line_dash\":[4,4],\"line_width\":{\"value\":2},\"plot\":null,\"render_mode\":\"css\",\"right_units\":\"screen\",\"top_units\":\"screen\"},\"id\":\"50e7dd9a-e45a-4218-93e4-c1aecfc038ac\",\"type\":\"BoxAnnotation\"},{\"attributes\":{},\"id\":\"60cd52c0-48a6-4042-bcde-61c8256abd72\",\"type\":\"HelpTool\"},{\"attributes\":{\"label\":{\"value\":\"Germany\"},\"renderers\":[{\"id\":\"6d8b394b-e21c-4890-82b4-75c2716c33b1\",\"type\":\"GlyphRenderer\"}]},\"id\":\"6a776dc9-04d7-4a09-8f9d-5961ce9cd6f8\",\"type\":\"LegendItem\"},{\"attributes\":{\"callback\":null,\"data\":{\"x\":[\"1960\",\"1961\",\"1962\",\"1963\",\"1964\",\"1965\",\"1966\",\"1967\",\"1968\",\"1969\",\"1970\",\"1971\",\"1972\",\"1973\",\"1974\",\"1975\",\"1976\",\"1977\",\"1978\",\"1979\",\"1980\",\"1981\",\"1982\",\"1983\",\"1984\",\"1985\",\"1986\",\"1987\",\"1988\",\"1989\",\"1990\",\"1991\",\"1992\",\"1993\",\"1994\",\"1995\",\"1996\",\"1997\",\"1998\",\"1999\",\"2000\",\"2001\",\"2002\",\"2003\",\"2004\",\"2005\",\"2006\",\"2007\",\"2008\",\"2009\",\"2010\",\"2011\",\"2012\",\"2013\",\"2014\",\"2015\",\"2016\"],\"y\":[[\"NaN\"],[137.479609390812],[141.009284557782],[144.056036227484],[146.458915199352],[148.160089050799],[149.716707144303],[151.583308034811],[153.504199554746],[155.24152499494],[156.36705626391398],[157.189814814815],[158.392936652499],[159.566560412872],[160.42817749443398],[160.358024691358],[159.444039668083],[158.904422181745],[158.918690548472],[159.238134992916],[159.871685893544],[160.74868447682698],[161.690674964582],[162.385473588342],[162.96554428394302],[163.686533937109],[164.540565154697],[165.577322978067],[166.798704748413],[168.152799210706],[169.888411039996],[172.02504490374199],[173.932151078955],[175.523413190316],[176.928204609274],[178.11447291861697],[178.90735681036202],[179.34338553393903],[179.88162222334702],[180.746135357369],[181.76930472624198],[182.9277635807],[184.321466524973],[185.698767743731],[186.984438259109],[188.195632370059],[189.385176000202],[191.090115396295],[193.53363194655302],[195.966975402369],[198.01875189796502],[200.23276647433997],[202.370204474137],[204.71064885109797],[207.223630934305],[209.711914161352],[\"NaN\"]]},\"selected\":{\"id\":\"d7aac316-d172-4aab-b851-86754207de70\",\"type\":\"Selection\"},\"selection_policy\":{\"id\":\"67192631-a969-4c79-99ee-39e9a8d182f0\",\"type\":\"UnionRenderers\"}},\"id\":\"392735cb-fde9-4bc1-adac-648b4436bd0f\",\"type\":\"ColumnDataSource\"},{\"attributes\":{},\"id\":\"3c7673a8-c7a3-4064-8bec-fa67589527ca\",\"type\":\"UnionRenderers\"},{\"attributes\":{\"source\":{\"id\":\"6c409813-112f-43d8-927a-4e1757e59aff\",\"type\":\"ColumnDataSource\"}},\"id\":\"ea7e8c22-8b5c-452c-9ade-a122346c45af\",\"type\":\"CDSView\"},{\"attributes\":{},\"id\":\"ce9b2df5-b1aa-45c7-9799-b1ea9b055ba7\",\"type\":\"Selection\"},{\"attributes\":{\"plot\":{\"id\":\"20e581eb-34b7-4c6d-9596-da79acd0e03e\",\"subtype\":\"Figure\",\"type\":\"Plot\"},\"ticker\":{\"id\":\"35316fa2-defa-4bc2-98bd-d803cdf86535\",\"type\":\"BasicTicker\"}},\"id\":\"0fa9dd51-1ffd-43a7-91b5-f1650ed81f66\",\"type\":\"Grid\"},{\"attributes\":{},\"id\":\"703a31a4-eaba-4716-8e02-18574b20f3df\",\"type\":\"BasicTicker\"},{\"attributes\":{},\"id\":\"907d0ece-4379-4d26-b5d1-275db356480c\",\"type\":\"BasicTickFormatter\"},{\"attributes\":{\"label\":{\"value\":\"Switzerland\"},\"renderers\":[{\"id\":\"205bd2a8-2569-4c91-8f9c-e7b030ef3b3a\",\"type\":\"GlyphRenderer\"},{\"id\":\"2d81c4ac-e723-47aa-a84b-985f8646c97b\",\"type\":\"GlyphRenderer\"}]},\"id\":\"d6539654-9bdd-4ea9-859f-0fac720672db\",\"type\":\"LegendItem\"},{\"attributes\":{\"items\":[{\"id\":\"6a776dc9-04d7-4a09-8f9d-5961ce9cd6f8\",\"type\":\"LegendItem\"},{\"id\":\"d6539654-9bdd-4ea9-859f-0fac720672db\",\"type\":\"LegendItem\"}],\"plot\":{\"id\":\"20e581eb-34b7-4c6d-9596-da79acd0e03e\",\"subtype\":\"Figure\",\"type\":\"Plot\"}},\"id\":\"939b03dd-ee04-42cd-822b-bebdb51e9247\",\"type\":\"Legend\"},{\"attributes\":{\"data_source\":{\"id\":\"6c409813-112f-43d8-927a-4e1757e59aff\",\"type\":\"ColumnDataSource\"},\"glyph\":{\"id\":\"4a499965-8b12-435b-8051-18ff84fcd30b\",\"type\":\"Line\"},\"hover_glyph\":null,\"muted_glyph\":null,\"nonselection_glyph\":{\"id\":\"e6e9ab90-3f92-4ed6-a644-85dd54a6ca26\",\"type\":\"Line\"},\"selection_glyph\":null,\"view\":{\"id\":\"ea7e8c22-8b5c-452c-9ade-a122346c45af\",\"type\":\"CDSView\"}},\"id\":\"205bd2a8-2569-4c91-8f9c-e7b030ef3b3a\",\"type\":\"GlyphRenderer\"},{\"attributes\":{\"fill_color\":{\"value\":\"white\"},\"line_color\":{\"value\":\"orange\"},\"x\":{\"field\":\"x\"},\"y\":{\"field\":\"y\"}},\"id\":\"64a6c78c-5bde-457d-8744-f57ae921e32e\",\"type\":\"Circle\"},{\"attributes\":{\"fill_alpha\":{\"value\":0.1},\"fill_color\":{\"value\":\"#1f77b4\"},\"line_alpha\":{\"value\":0.1},\"line_color\":{\"value\":\"#1f77b4\"},\"x\":{\"field\":\"x\"},\"y\":{\"field\":\"y\"}},\"id\":\"c606e183-8694-40fb-a984-dd0e7ecb3b92\",\"type\":\"Circle\"},{\"attributes\":{},\"id\":\"35316fa2-defa-4bc2-98bd-d803cdf86535\",\"type\":\"BasicTicker\"},{\"attributes\":{\"data_source\":{\"id\":\"392735cb-fde9-4bc1-adac-648b4436bd0f\",\"type\":\"ColumnDataSource\"},\"glyph\":{\"id\":\"64a6c78c-5bde-457d-8744-f57ae921e32e\",\"type\":\"Circle\"},\"hover_glyph\":null,\"muted_glyph\":null,\"nonselection_glyph\":{\"id\":\"c606e183-8694-40fb-a984-dd0e7ecb3b92\",\"type\":\"Circle\"},\"selection_glyph\":null,\"view\":{\"id\":\"b3c4efca-687b-42c7-92dd-64ed9d083b4a\",\"type\":\"CDSView\"}},\"id\":\"2d81c4ac-e723-47aa-a84b-985f8646c97b\",\"type\":\"GlyphRenderer\"},{\"attributes\":{\"callback\":null},\"id\":\"92c46f2b-265b-48f0-85d9-174955b22308\",\"type\":\"DataRange1d\"},{\"attributes\":{\"source\":{\"id\":\"392735cb-fde9-4bc1-adac-648b4436bd0f\",\"type\":\"ColumnDataSource\"}},\"id\":\"b3c4efca-687b-42c7-92dd-64ed9d083b4a\",\"type\":\"CDSView\"},{\"attributes\":{\"line_color\":\"#1f77b4\",\"line_width\":2,\"x\":{\"field\":\"x\"},\"y\":{\"field\":\"y\"}},\"id\":\"9b71e9f0-a57b-4c04-81ac-9012869ab955\",\"type\":\"Line\"},{\"attributes\":{\"line_alpha\":0.1,\"line_color\":\"#1f77b4\",\"line_width\":2,\"x\":{\"field\":\"x\"},\"y\":{\"field\":\"y\"}},\"id\":\"9481abef-3fab-40fe-ba02-0db386b7572d\",\"type\":\"Line\"},{\"attributes\":{},\"id\":\"81f6edca-f46f-4aae-a8c2-30b5f1048a2c\",\"type\":\"BasicTickFormatter\"},{\"attributes\":{},\"id\":\"de2ee56a-6b63-4d59-85b0-5b427437da69\",\"type\":\"UnionRenderers\"},{\"attributes\":{},\"id\":\"cacced8c-08fc-46ea-aef9-ffe9fd43da88\",\"type\":\"Selection\"},{\"attributes\":{},\"id\":\"b6e49c24-169d-48de-bf06-0c18622fbc11\",\"type\":\"LinearScale\"},{\"attributes\":{\"overlay\":{\"id\":\"50e7dd9a-e45a-4218-93e4-c1aecfc038ac\",\"type\":\"BoxAnnotation\"}},\"id\":\"2fb54918-1198-404c-850f-39bb62ba519c\",\"type\":\"BoxZoomTool\"},{\"attributes\":{},\"id\":\"105780b0-3300-44dd-98a6-919d07766831\",\"type\":\"ResetTool\"},{\"attributes\":{},\"id\":\"67192631-a969-4c79-99ee-39e9a8d182f0\",\"type\":\"UnionRenderers\"},{\"attributes\":{\"active_drag\":\"auto\",\"active_inspect\":\"auto\",\"active_multi\":null,\"active_scroll\":\"auto\",\"active_tap\":\"auto\",\"tools\":[{\"id\":\"56b2948f-3ed8-483a-b5a5-22db659f3ef3\",\"type\":\"PanTool\"},{\"id\":\"b05bd906-61fc-485d-8163-8944aa49f1c1\",\"type\":\"WheelZoomTool\"},{\"id\":\"2fb54918-1198-404c-850f-39bb62ba519c\",\"type\":\"BoxZoomTool\"},{\"id\":\"410d9ed0-cfa9-4ab0-acc6-3855fb49741b\",\"type\":\"SaveTool\"},{\"id\":\"105780b0-3300-44dd-98a6-919d07766831\",\"type\":\"ResetTool\"},{\"id\":\"60cd52c0-48a6-4042-bcde-61c8256abd72\",\"type\":\"HelpTool\"}]},\"id\":\"7ad1879e-e775-4402-bec7-f0e9de40870f\",\"type\":\"Toolbar\"},{\"attributes\":{},\"id\":\"d7aac316-d172-4aab-b851-86754207de70\",\"type\":\"Selection\"},{\"attributes\":{\"callback\":null,\"data\":{\"x\":[\"1960\",\"1961\",\"1962\",\"1963\",\"1964\",\"1965\",\"1966\",\"1967\",\"1968\",\"1969\",\"1970\",\"1971\",\"1972\",\"1973\",\"1974\",\"1975\",\"1976\",\"1977\",\"1978\",\"1979\",\"1980\",\"1981\",\"1982\",\"1983\",\"1984\",\"1985\",\"1986\",\"1987\",\"1988\",\"1989\",\"1990\",\"1991\",\"1992\",\"1993\",\"1994\",\"1995\",\"1996\",\"1997\",\"1998\",\"1999\",\"2000\",\"2001\",\"2002\",\"2003\",\"2004\",\"2005\",\"2006\",\"2007\",\"2008\",\"2009\",\"2010\",\"2011\",\"2012\",\"2013\",\"2014\",\"2015\",\"2016\"],\"y\":[[\"NaN\"],[210.172806690917],[212.02928422077701],[214.00152665196302],[215.731495431501],[217.579970211669],[219.40340560822602],[220.40883338584499],[221.391212442357],[223.15378798728298],[223.897370606937],[224.308544095323],[225.384389768854],[226.095339844757],[226.183464612036],[225.341717984705],[224.377595737977],[223.870231718844],[223.675479047919],[223.774382035345],[224.239039899178],[224.580835218973],[224.367330220835],[223.77991579067998],[223.00771918769502],[222.50987597742997],[222.61173774811698],[222.953971300089],[223.826709248704],[225.564354251998],[227.517053819494],[229.18080944061],[230.930020336264],[232.45979319431703],[233.27417719343498],[233.96749069034698],[234.65247070955897],[235.022979515829],[235.07877772047402],[235.25773110206902],[235.596813297034],[236.027300085985],[236.45157083070598],[236.61642728132801],[236.592195429653],[236.464680582636],[236.225197866483],[235.94336191814602],[235.522178240542],[234.93963741717099],[234.60690822503398],[234.673149529493],[230.750625466231],[235.647997360418],[232.347793653526],[233.583362024445],[\"NaN\"]]},\"selected\":{\"id\":\"ce9b2df5-b1aa-45c7-9799-b1ea9b055ba7\",\"type\":\"Selection\"},\"selection_policy\":{\"id\":\"3c7673a8-c7a3-4064-8bec-fa67589527ca\",\"type\":\"UnionRenderers\"}},\"id\":\"4aa4e157-460e-42d2-84f4-67897c48d920\",\"type\":\"ColumnDataSource\"},{\"attributes\":{\"source\":{\"id\":\"4aa4e157-460e-42d2-84f4-67897c48d920\",\"type\":\"ColumnDataSource\"}},\"id\":\"2000bb77-e217-4fd9-a985-c2b7631a1782\",\"type\":\"CDSView\"},{\"attributes\":{},\"id\":\"56b2948f-3ed8-483a-b5a5-22db659f3ef3\",\"type\":\"PanTool\"},{\"attributes\":{\"axis_label\":\"Population Density\",\"formatter\":{\"id\":\"81f6edca-f46f-4aae-a8c2-30b5f1048a2c\",\"type\":\"BasicTickFormatter\"},\"plot\":{\"id\":\"20e581eb-34b7-4c6d-9596-da79acd0e03e\",\"subtype\":\"Figure\",\"type\":\"Plot\"},\"ticker\":{\"id\":\"703a31a4-eaba-4716-8e02-18574b20f3df\",\"type\":\"BasicTicker\"}},\"id\":\"5e268ce5-bbbf-41aa-9ba8-27eea70a3619\",\"type\":\"LinearAxis\"},{\"attributes\":{},\"id\":\"410d9ed0-cfa9-4ab0-acc6-3855fb49741b\",\"type\":\"SaveTool\"},{\"attributes\":{\"axis_label\":\"Year\",\"formatter\":{\"id\":\"907d0ece-4379-4d26-b5d1-275db356480c\",\"type\":\"BasicTickFormatter\"},\"plot\":{\"id\":\"20e581eb-34b7-4c6d-9596-da79acd0e03e\",\"subtype\":\"Figure\",\"type\":\"Plot\"},\"ticker\":{\"id\":\"35316fa2-defa-4bc2-98bd-d803cdf86535\",\"type\":\"BasicTicker\"}},\"id\":\"b1b41de6-c5cd-4d67-ba9b-a4769ed5f7ac\",\"type\":\"LinearAxis\"},{\"attributes\":{\"line_color\":\"orange\",\"line_width\":2,\"x\":{\"field\":\"x\"},\"y\":{\"field\":\"y\"}},\"id\":\"4a499965-8b12-435b-8051-18ff84fcd30b\",\"type\":\"Line\"},{\"attributes\":{\"callback\":null,\"data\":{\"x\":[\"1960\",\"1961\",\"1962\",\"1963\",\"1964\",\"1965\",\"1966\",\"1967\",\"1968\",\"1969\",\"1970\",\"1971\",\"1972\",\"1973\",\"1974\",\"1975\",\"1976\",\"1977\",\"1978\",\"1979\",\"1980\",\"1981\",\"1982\",\"1983\",\"1984\",\"1985\",\"1986\",\"1987\",\"1988\",\"1989\",\"1990\",\"1991\",\"1992\",\"1993\",\"1994\",\"1995\",\"1996\",\"1997\",\"1998\",\"1999\",\"2000\",\"2001\",\"2002\",\"2003\",\"2004\",\"2005\",\"2006\",\"2007\",\"2008\",\"2009\",\"2010\",\"2011\",\"2012\",\"2013\",\"2014\",\"2015\",\"2016\"],\"y\":[[\"NaN\"],[137.479609390812],[141.009284557782],[144.056036227484],[146.458915199352],[148.160089050799],[149.716707144303],[151.583308034811],[153.504199554746],[155.24152499494],[156.36705626391398],[157.189814814815],[158.392936652499],[159.566560412872],[160.42817749443398],[160.358024691358],[159.444039668083],[158.904422181745],[158.918690548472],[159.238134992916],[159.871685893544],[160.74868447682698],[161.690674964582],[162.385473588342],[162.96554428394302],[163.686533937109],[164.540565154697],[165.577322978067],[166.798704748413],[168.152799210706],[169.888411039996],[172.02504490374199],[173.932151078955],[175.523413190316],[176.928204609274],[178.11447291861697],[178.90735681036202],[179.34338553393903],[179.88162222334702],[180.746135357369],[181.76930472624198],[182.9277635807],[184.321466524973],[185.698767743731],[186.984438259109],[188.195632370059],[189.385176000202],[191.090115396295],[193.53363194655302],[195.966975402369],[198.01875189796502],[200.23276647433997],[202.370204474137],[204.71064885109797],[207.223630934305],[209.711914161352],[\"NaN\"]]},\"selected\":{\"id\":\"cacced8c-08fc-46ea-aef9-ffe9fd43da88\",\"type\":\"Selection\"},\"selection_policy\":{\"id\":\"de2ee56a-6b63-4d59-85b0-5b427437da69\",\"type\":\"UnionRenderers\"}},\"id\":\"6c409813-112f-43d8-927a-4e1757e59aff\",\"type\":\"ColumnDataSource\"},{\"attributes\":{\"data_source\":{\"id\":\"4aa4e157-460e-42d2-84f4-67897c48d920\",\"type\":\"ColumnDataSource\"},\"glyph\":{\"id\":\"9b71e9f0-a57b-4c04-81ac-9012869ab955\",\"type\":\"Line\"},\"hover_glyph\":null,\"muted_glyph\":null,\"nonselection_glyph\":{\"id\":\"9481abef-3fab-40fe-ba02-0db386b7572d\",\"type\":\"Line\"},\"selection_glyph\":null,\"view\":{\"id\":\"2000bb77-e217-4fd9-a985-c2b7631a1782\",\"type\":\"CDSView\"}},\"id\":\"6d8b394b-e21c-4890-82b4-75c2716c33b1\",\"type\":\"GlyphRenderer\"},{\"attributes\":{\"callback\":null},\"id\":\"48a24cef-b184-47cc-97a2-9babcfd4c5f9\",\"type\":\"DataRange1d\"},{\"attributes\":{\"dimension\":1,\"plot\":{\"id\":\"20e581eb-34b7-4c6d-9596-da79acd0e03e\",\"subtype\":\"Figure\",\"type\":\"Plot\"},\"ticker\":{\"id\":\"703a31a4-eaba-4716-8e02-18574b20f3df\",\"type\":\"BasicTicker\"}},\"id\":\"1bd343f8-7d29-48c3-a3a3-78331dbdcc4e\",\"type\":\"Grid\"},{\"attributes\":{},\"id\":\"181566af-2bc1-4a8a-9201-872767c445c0\",\"type\":\"LinearScale\"},{\"attributes\":{\"plot\":null,\"text\":\"Population Density of Germany and Switzerland\"},\"id\":\"c5955720-90ad-4be9-8088-5a0bec6619e3\",\"type\":\"Title\"},{\"attributes\":{\"below\":[{\"id\":\"b1b41de6-c5cd-4d67-ba9b-a4769ed5f7ac\",\"type\":\"LinearAxis\"}],\"left\":[{\"id\":\"5e268ce5-bbbf-41aa-9ba8-27eea70a3619\",\"type\":\"LinearAxis\"}],\"renderers\":[{\"id\":\"b1b41de6-c5cd-4d67-ba9b-a4769ed5f7ac\",\"type\":\"LinearAxis\"},{\"id\":\"0fa9dd51-1ffd-43a7-91b5-f1650ed81f66\",\"type\":\"Grid\"},{\"id\":\"5e268ce5-bbbf-41aa-9ba8-27eea70a3619\",\"type\":\"LinearAxis\"},{\"id\":\"1bd343f8-7d29-48c3-a3a3-78331dbdcc4e\",\"type\":\"Grid\"},{\"id\":\"50e7dd9a-e45a-4218-93e4-c1aecfc038ac\",\"type\":\"BoxAnnotation\"},{\"id\":\"939b03dd-ee04-42cd-822b-bebdb51e9247\",\"type\":\"Legend\"},{\"id\":\"6d8b394b-e21c-4890-82b4-75c2716c33b1\",\"type\":\"GlyphRenderer\"},{\"id\":\"205bd2a8-2569-4c91-8f9c-e7b030ef3b3a\",\"type\":\"GlyphRenderer\"},{\"id\":\"2d81c4ac-e723-47aa-a84b-985f8646c97b\",\"type\":\"GlyphRenderer\"}],\"title\":{\"id\":\"c5955720-90ad-4be9-8088-5a0bec6619e3\",\"type\":\"Title\"},\"toolbar\":{\"id\":\"7ad1879e-e775-4402-bec7-f0e9de40870f\",\"type\":\"Toolbar\"},\"x_range\":{\"id\":\"92c46f2b-265b-48f0-85d9-174955b22308\",\"type\":\"DataRange1d\"},\"x_scale\":{\"id\":\"181566af-2bc1-4a8a-9201-872767c445c0\",\"type\":\"LinearScale\"},\"y_range\":{\"id\":\"48a24cef-b184-47cc-97a2-9babcfd4c5f9\",\"type\":\"DataRange1d\"},\"y_scale\":{\"id\":\"b6e49c24-169d-48de-bf06-0c18622fbc11\",\"type\":\"LinearScale\"}},\"id\":\"20e581eb-34b7-4c6d-9596-da79acd0e03e\",\"subtype\":\"Figure\",\"type\":\"Plot\"},{\"attributes\":{},\"id\":\"b05bd906-61fc-485d-8163-8944aa49f1c1\",\"type\":\"WheelZoomTool\"},{\"attributes\":{\"line_alpha\":0.1,\"line_color\":\"#1f77b4\",\"line_width\":2,\"x\":{\"field\":\"x\"},\"y\":{\"field\":\"y\"}},\"id\":\"e6e9ab90-3f92-4ed6-a644-85dd54a6ca26\",\"type\":\"Line\"}],\"root_ids\":[\"20e581eb-34b7-4c6d-9596-da79acd0e03e\"]},\"title\":\"Bokeh Application\",\"version\":\"0.13.0\"}};\n",
       "  var render_items = [{\"docid\":\"5c8876bb-a21b-467b-93f8-525eab4d86e9\",\"roots\":{\"20e581eb-34b7-4c6d-9596-da79acd0e03e\":\"28b9668d-9990-4365-ba13-a266c30f7e56\"}}];\n",
       "  root.Bokeh.embed.embed_items_notebook(docs_json, render_items);\n",
       "\n",
       "  }\n",
       "  if (root.Bokeh !== undefined) {\n",
       "    embed_document(root);\n",
       "  } else {\n",
       "    var attempts = 0;\n",
       "    var timer = setInterval(function(root) {\n",
       "      if (root.Bokeh !== undefined) {\n",
       "        embed_document(root);\n",
       "        clearInterval(timer);\n",
       "      }\n",
       "      attempts++;\n",
       "      if (attempts > 100) {\n",
       "        console.log(\"Bokeh: ERROR: Unable to run BokehJS code because BokehJS library is missing\")\n",
       "        clearInterval(timer);\n",
       "      }\n",
       "    }, 10, root)\n",
       "  }\n",
       "})(window);"
      ],
      "application/vnd.bokehjs_exec.v0+json": ""
     },
     "metadata": {
      "application/vnd.bokehjs_exec.v0+json": {
       "id": "20e581eb-34b7-4c6d-9596-da79acd0e03e"
      }
     },
     "output_type": "display_data"
    }
   ],
   "source": [
    "# plotting the data for Germany and Switzerland in one visualization, \n",
    "# adding circles for each data point for Switzerland\n",
    "plot = figure(title='Population Density of Germany and Switzerland', x_axis_label='Year', y_axis_label='Population Density')\n",
    "\n",
    "plot.line(years, de_vals, line_width=2, legend='Germany')\n",
    "plot.line(years, ch_vals, line_width=2, color='orange', legend='Switzerland')\n",
    "plot.circle(years, ch_vals, size=4, line_color='orange', fill_color='white', legend='Switzerland')\n",
    "\n",
    "show(plot)"
   ]
  },
  {
   "cell_type": "markdown",
   "metadata": {},
   "source": [
    "**Note:**   \n",
    "Using Bokeh, we are also able to stack different graphs on top of each other which gives us the tooling to not only differentiate the graphs by color but other features like different line styles."
   ]
  },
  {
   "cell_type": "markdown",
   "metadata": {},
   "source": [
    "In the next task, we want to display the plots next to each other instead if having them stacked.   \n",
    "In some cases this will allow us to compare many plots better since they are not layered on top of each other.   \n",
    "We can still make sure all of the plots have the same `x` and `y` axis for better comparison by providing the `x_range` and `y_range` values to our other figures.   \n",
    "\n",
    "Bokeh provides a submodule that gives us access to several layouts. So we need an additional import here.   \n",
    "The `gridplot` object allows us to provide a two dimensional array which describes the positions of the plots on a grid."
   ]
  },
  {
   "cell_type": "code",
   "execution_count": 26,
   "metadata": {},
   "outputs": [
    {
     "data": {
      "text/html": [
       "\n",
       "\n",
       "\n",
       "\n",
       "\n",
       "\n",
       "  <div class=\"bk-root\" id=\"3f04346c-2ea1-4401-924e-23b499fd28b3\"></div>\n"
      ]
     },
     "metadata": {},
     "output_type": "display_data"
    },
    {
     "data": {
      "application/javascript": [
       "(function(root) {\n",
       "  function embed_document(root) {\n",
       "    \n",
       "  var docs_json = {\"7d9562f6-54f7-4d17-a43f-0c3e4cd9ed94\":{\"roots\":{\"references\":[{\"attributes\":{},\"id\":\"db7f3a93-36c3-4b7e-ad0c-79881f1695dd\",\"type\":\"HelpTool\"},{\"attributes\":{\"plot\":null,\"text\":\"Population Density of Germany\"},\"id\":\"5ae334f7-22ec-4a3c-b037-2d2b6bf0effa\",\"type\":\"Title\"},{\"attributes\":{},\"id\":\"17d4d512-6412-4f5c-ad00-a6e4024a3579\",\"type\":\"SaveTool\"},{\"attributes\":{},\"id\":\"d561cd3f-65d3-4b53-b329-41d12bc2f4ef\",\"type\":\"WheelZoomTool\"},{\"attributes\":{\"bottom_units\":\"screen\",\"fill_alpha\":{\"value\":0.5},\"fill_color\":{\"value\":\"lightgrey\"},\"left_units\":\"screen\",\"level\":\"overlay\",\"line_alpha\":{\"value\":1.0},\"line_color\":{\"value\":\"black\"},\"line_dash\":[4,4],\"line_width\":{\"value\":2},\"plot\":null,\"render_mode\":\"css\",\"right_units\":\"screen\",\"top_units\":\"screen\"},\"id\":\"46613aa9-15a4-4077-a803-ab2d2380af4e\",\"type\":\"BoxAnnotation\"},{\"attributes\":{\"active_drag\":\"auto\",\"active_inspect\":\"auto\",\"active_multi\":null,\"active_scroll\":\"auto\",\"active_tap\":\"auto\",\"tools\":[{\"id\":\"de565528-02e0-4e37-b0b4-5b23a31a7bc3\",\"type\":\"PanTool\"},{\"id\":\"0d3a44fa-813f-4359-a0b5-1bece139c20e\",\"type\":\"WheelZoomTool\"},{\"id\":\"1a346f31-4cdd-4265-af5c-76f8cdba0a96\",\"type\":\"BoxZoomTool\"},{\"id\":\"7afee8f5-3a75-413b-8bee-6b213047cb2b\",\"type\":\"SaveTool\"},{\"id\":\"37578fcf-ff31-4aa4-9882-21b7f28a36d0\",\"type\":\"ResetTool\"},{\"id\":\"431e9f10-e4c1-4a20-b2d6-cf7c44128414\",\"type\":\"HelpTool\"}]},\"id\":\"2f13fe50-5666-4696-ac30-65ada61f674e\",\"type\":\"Toolbar\"},{\"attributes\":{},\"id\":\"dc57638a-11de-4f38-9221-59f9d1ec6c31\",\"type\":\"BasicTickFormatter\"},{\"attributes\":{\"plot\":null,\"text\":\"Population Density of Switzerland\"},\"id\":\"3623c533-2e70-406c-a60c-c3b50ddea1c4\",\"type\":\"Title\"},{\"attributes\":{\"source\":{\"id\":\"fdf6a7d0-908f-49b3-af18-0bc626898845\",\"type\":\"ColumnDataSource\"}},\"id\":\"0b630d7b-678e-4c7e-94fe-ca33b60531d0\",\"type\":\"CDSView\"},{\"attributes\":{},\"id\":\"1d981aac-5ebe-4a1b-a953-249bdbf25f5b\",\"type\":\"LinearScale\"},{\"attributes\":{\"axis_label\":\"Year\",\"formatter\":{\"id\":\"dc57638a-11de-4f38-9221-59f9d1ec6c31\",\"type\":\"BasicTickFormatter\"},\"plot\":{\"id\":\"f17589c5-9f76-4bca-9117-b11fd7bf99b4\",\"subtype\":\"Figure\",\"type\":\"Plot\"},\"ticker\":{\"id\":\"e0974cf9-bcb0-45fa-ae41-ae999e9b31b8\",\"type\":\"BasicTicker\"}},\"id\":\"6459a046-e6bb-4ebf-bbac-36f3a514cc6a\",\"type\":\"LinearAxis\"},{\"attributes\":{},\"id\":\"606dc02b-3665-4deb-b9ce-d4d2e6edafc8\",\"type\":\"BasicTickFormatter\"},{\"attributes\":{},\"id\":\"e0974cf9-bcb0-45fa-ae41-ae999e9b31b8\",\"type\":\"BasicTicker\"},{\"attributes\":{},\"id\":\"c2e14d8b-019d-4676-a8f1-a0fde81d811e\",\"type\":\"UnionRenderers\"},{\"attributes\":{},\"id\":\"d3798ef4-2d9a-49d8-b62a-f8038573e0ff\",\"type\":\"LinearScale\"},{\"attributes\":{\"overlay\":{\"id\":\"46613aa9-15a4-4077-a803-ab2d2380af4e\",\"type\":\"BoxAnnotation\"}},\"id\":\"cc822e0d-646b-49f8-9214-f589cdbbc0b2\",\"type\":\"BoxZoomTool\"},{\"attributes\":{},\"id\":\"abe8cdcf-692e-4f1d-a8c0-b9e0237586e7\",\"type\":\"Selection\"},{\"attributes\":{\"callback\":null},\"id\":\"f9eeea61-b946-4678-8092-de3432c6969b\",\"type\":\"DataRange1d\"},{\"attributes\":{},\"id\":\"7825805a-976b-449b-ba98-929944e699b0\",\"type\":\"BasicTickFormatter\"},{\"attributes\":{\"children\":[{\"id\":\"f17589c5-9f76-4bca-9117-b11fd7bf99b4\",\"subtype\":\"Figure\",\"type\":\"Plot\"},{\"id\":\"876b3314-5358-4ac6-9893-6dfc0b614ec4\",\"subtype\":\"Figure\",\"type\":\"Plot\"}]},\"id\":\"44fb0dea-852b-484b-b38b-1f578c30e293\",\"type\":\"Row\"},{\"attributes\":{},\"id\":\"ea1e6102-c63d-4480-a29a-552123bf1d03\",\"type\":\"BasicTickFormatter\"},{\"attributes\":{},\"id\":\"0d3a44fa-813f-4359-a0b5-1bece139c20e\",\"type\":\"WheelZoomTool\"},{\"attributes\":{\"toolbar\":{\"id\":\"080fcb4c-2877-408b-a9bc-6ad864c5f440\",\"type\":\"ProxyToolbar\"},\"toolbar_location\":\"above\"},\"id\":\"7528db22-54e0-4136-88d9-2ec07d226ff7\",\"type\":\"ToolbarBox\"},{\"attributes\":{\"callback\":null,\"data\":{\"x\":[\"1960\",\"1961\",\"1962\",\"1963\",\"1964\",\"1965\",\"1966\",\"1967\",\"1968\",\"1969\",\"1970\",\"1971\",\"1972\",\"1973\",\"1974\",\"1975\",\"1976\",\"1977\",\"1978\",\"1979\",\"1980\",\"1981\",\"1982\",\"1983\",\"1984\",\"1985\",\"1986\",\"1987\",\"1988\",\"1989\",\"1990\",\"1991\",\"1992\",\"1993\",\"1994\",\"1995\",\"1996\",\"1997\",\"1998\",\"1999\",\"2000\",\"2001\",\"2002\",\"2003\",\"2004\",\"2005\",\"2006\",\"2007\",\"2008\",\"2009\",\"2010\",\"2011\",\"2012\",\"2013\",\"2014\",\"2015\",\"2016\"],\"y\":[[\"NaN\"],[137.479609390812],[141.009284557782],[144.056036227484],[146.458915199352],[148.160089050799],[149.716707144303],[151.583308034811],[153.504199554746],[155.24152499494],[156.36705626391398],[157.189814814815],[158.392936652499],[159.566560412872],[160.42817749443398],[160.358024691358],[159.444039668083],[158.904422181745],[158.918690548472],[159.238134992916],[159.871685893544],[160.74868447682698],[161.690674964582],[162.385473588342],[162.96554428394302],[163.686533937109],[164.540565154697],[165.577322978067],[166.798704748413],[168.152799210706],[169.888411039996],[172.02504490374199],[173.932151078955],[175.523413190316],[176.928204609274],[178.11447291861697],[178.90735681036202],[179.34338553393903],[179.88162222334702],[180.746135357369],[181.76930472624198],[182.9277635807],[184.321466524973],[185.698767743731],[186.984438259109],[188.195632370059],[189.385176000202],[191.090115396295],[193.53363194655302],[195.966975402369],[198.01875189796502],[200.23276647433997],[202.370204474137],[204.71064885109797],[207.223630934305],[209.711914161352],[\"NaN\"]]},\"selected\":{\"id\":\"6f7260cb-6627-4745-b5b6-c4e75fd118d9\",\"type\":\"Selection\"},\"selection_policy\":{\"id\":\"c2e14d8b-019d-4676-a8f1-a0fde81d811e\",\"type\":\"UnionRenderers\"}},\"id\":\"fdf6a7d0-908f-49b3-af18-0bc626898845\",\"type\":\"ColumnDataSource\"},{\"attributes\":{},\"id\":\"6f7260cb-6627-4745-b5b6-c4e75fd118d9\",\"type\":\"Selection\"},{\"attributes\":{\"plot\":{\"id\":\"f17589c5-9f76-4bca-9117-b11fd7bf99b4\",\"subtype\":\"Figure\",\"type\":\"Plot\"},\"ticker\":{\"id\":\"e0974cf9-bcb0-45fa-ae41-ae999e9b31b8\",\"type\":\"BasicTicker\"}},\"id\":\"8e28741a-6931-4b34-8167-3877bd118e2c\",\"type\":\"Grid\"},{\"attributes\":{\"tools\":[{\"id\":\"de565528-02e0-4e37-b0b4-5b23a31a7bc3\",\"type\":\"PanTool\"},{\"id\":\"0d3a44fa-813f-4359-a0b5-1bece139c20e\",\"type\":\"WheelZoomTool\"},{\"id\":\"1a346f31-4cdd-4265-af5c-76f8cdba0a96\",\"type\":\"BoxZoomTool\"},{\"id\":\"7afee8f5-3a75-413b-8bee-6b213047cb2b\",\"type\":\"SaveTool\"},{\"id\":\"37578fcf-ff31-4aa4-9882-21b7f28a36d0\",\"type\":\"ResetTool\"},{\"id\":\"431e9f10-e4c1-4a20-b2d6-cf7c44128414\",\"type\":\"HelpTool\"},{\"id\":\"a8b703cf-c661-4abb-9ce5-9e7d150dec22\",\"type\":\"PanTool\"},{\"id\":\"d561cd3f-65d3-4b53-b329-41d12bc2f4ef\",\"type\":\"WheelZoomTool\"},{\"id\":\"cc822e0d-646b-49f8-9214-f589cdbbc0b2\",\"type\":\"BoxZoomTool\"},{\"id\":\"17d4d512-6412-4f5c-ad00-a6e4024a3579\",\"type\":\"SaveTool\"},{\"id\":\"16e7a6a6-d573-4ef6-87fc-de0784d572cf\",\"type\":\"ResetTool\"},{\"id\":\"db7f3a93-36c3-4b7e-ad0c-79881f1695dd\",\"type\":\"HelpTool\"}]},\"id\":\"080fcb4c-2877-408b-a9bc-6ad864c5f440\",\"type\":\"ProxyToolbar\"},{\"attributes\":{\"line_color\":\"#1f77b4\",\"line_width\":2,\"x\":{\"field\":\"x\"},\"y\":{\"field\":\"y\"}},\"id\":\"6b8647cf-6291-4018-bc28-9ea600be9648\",\"type\":\"Line\"},{\"attributes\":{\"axis_label\":\"Population Density\",\"formatter\":{\"id\":\"606dc02b-3665-4deb-b9ce-d4d2e6edafc8\",\"type\":\"BasicTickFormatter\"},\"plot\":{\"id\":\"f17589c5-9f76-4bca-9117-b11fd7bf99b4\",\"subtype\":\"Figure\",\"type\":\"Plot\"},\"ticker\":{\"id\":\"ef103322-a153-4364-825f-d3f4132d4bf9\",\"type\":\"BasicTicker\"}},\"id\":\"463b63a1-920b-4194-a44f-eb12e64801c3\",\"type\":\"LinearAxis\"},{\"attributes\":{\"children\":[{\"id\":\"7528db22-54e0-4136-88d9-2ec07d226ff7\",\"type\":\"ToolbarBox\"},{\"id\":\"2a49e499-2128-4948-82dd-9a0b425288b3\",\"type\":\"Column\"}]},\"id\":\"c971c543-ec84-4c9e-89ee-2ae6967f276c\",\"type\":\"Column\"},{\"attributes\":{},\"id\":\"ef103322-a153-4364-825f-d3f4132d4bf9\",\"type\":\"BasicTicker\"},{\"attributes\":{\"dimension\":1,\"plot\":{\"id\":\"f17589c5-9f76-4bca-9117-b11fd7bf99b4\",\"subtype\":\"Figure\",\"type\":\"Plot\"},\"ticker\":{\"id\":\"ef103322-a153-4364-825f-d3f4132d4bf9\",\"type\":\"BasicTicker\"}},\"id\":\"c64825fe-a277-41ee-8e14-2e299b782bad\",\"type\":\"Grid\"},{\"attributes\":{\"line_alpha\":0.1,\"line_color\":\"#1f77b4\",\"line_width\":2,\"x\":{\"field\":\"x\"},\"y\":{\"field\":\"y\"}},\"id\":\"fab11f2a-273f-420f-9f37-153a5d219f10\",\"type\":\"Line\"},{\"attributes\":{},\"id\":\"7526cd38-fd26-4d10-96f0-aa5d075b870b\",\"type\":\"LinearScale\"},{\"attributes\":{\"data_source\":{\"id\":\"fdf6a7d0-908f-49b3-af18-0bc626898845\",\"type\":\"ColumnDataSource\"},\"glyph\":{\"id\":\"6b8647cf-6291-4018-bc28-9ea600be9648\",\"type\":\"Line\"},\"hover_glyph\":null,\"muted_glyph\":null,\"nonselection_glyph\":{\"id\":\"53bc7bb7-5037-46ba-b5e6-8a089baa6540\",\"type\":\"Line\"},\"selection_glyph\":null,\"view\":{\"id\":\"0b630d7b-678e-4c7e-94fe-ca33b60531d0\",\"type\":\"CDSView\"}},\"id\":\"63e17d82-f98d-4f95-8e53-04f014f2aba3\",\"type\":\"GlyphRenderer\"},{\"attributes\":{\"source\":{\"id\":\"7271c20f-6b97-4d36-b550-ecd54ae68457\",\"type\":\"ColumnDataSource\"}},\"id\":\"06175f2e-0b04-4cd7-a17a-2385f02c7c98\",\"type\":\"CDSView\"},{\"attributes\":{\"line_alpha\":0.1,\"line_color\":\"#1f77b4\",\"line_width\":2,\"x\":{\"field\":\"x\"},\"y\":{\"field\":\"y\"}},\"id\":\"53bc7bb7-5037-46ba-b5e6-8a089baa6540\",\"type\":\"Line\"},{\"attributes\":{\"data_source\":{\"id\":\"7271c20f-6b97-4d36-b550-ecd54ae68457\",\"type\":\"ColumnDataSource\"},\"glyph\":{\"id\":\"827f0add-ec29-420e-a0b9-dd5f7dba6a16\",\"type\":\"Line\"},\"hover_glyph\":null,\"muted_glyph\":null,\"nonselection_glyph\":{\"id\":\"fab11f2a-273f-420f-9f37-153a5d219f10\",\"type\":\"Line\"},\"selection_glyph\":null,\"view\":{\"id\":\"06175f2e-0b04-4cd7-a17a-2385f02c7c98\",\"type\":\"CDSView\"}},\"id\":\"5aaf5347-4259-4ee6-b02e-ca3a3ee54c42\",\"type\":\"GlyphRenderer\"},{\"attributes\":{},\"id\":\"a8b703cf-c661-4abb-9ce5-9e7d150dec22\",\"type\":\"PanTool\"},{\"attributes\":{\"plot\":{\"id\":\"876b3314-5358-4ac6-9893-6dfc0b614ec4\",\"subtype\":\"Figure\",\"type\":\"Plot\"},\"ticker\":{\"id\":\"01d62fec-3824-47d0-a244-5bb1c378a214\",\"type\":\"BasicTicker\"}},\"id\":\"c3f4740c-e1ca-4082-be0b-7d9c28b54d4a\",\"type\":\"Grid\"},{\"attributes\":{\"below\":[{\"id\":\"6459a046-e6bb-4ebf-bbac-36f3a514cc6a\",\"type\":\"LinearAxis\"}],\"left\":[{\"id\":\"463b63a1-920b-4194-a44f-eb12e64801c3\",\"type\":\"LinearAxis\"}],\"plot_height\":300,\"renderers\":[{\"id\":\"6459a046-e6bb-4ebf-bbac-36f3a514cc6a\",\"type\":\"LinearAxis\"},{\"id\":\"8e28741a-6931-4b34-8167-3877bd118e2c\",\"type\":\"Grid\"},{\"id\":\"463b63a1-920b-4194-a44f-eb12e64801c3\",\"type\":\"LinearAxis\"},{\"id\":\"c64825fe-a277-41ee-8e14-2e299b782bad\",\"type\":\"Grid\"},{\"id\":\"10e3b164-4f6b-4259-abd5-2ff2e6dc96db\",\"type\":\"BoxAnnotation\"},{\"id\":\"5aaf5347-4259-4ee6-b02e-ca3a3ee54c42\",\"type\":\"GlyphRenderer\"}],\"title\":{\"id\":\"5ae334f7-22ec-4a3c-b037-2d2b6bf0effa\",\"type\":\"Title\"},\"toolbar\":{\"id\":\"2f13fe50-5666-4696-ac30-65ada61f674e\",\"type\":\"Toolbar\"},\"toolbar_location\":null,\"x_range\":{\"id\":\"bbec659f-1793-4d93-85fe-cac4dda99a28\",\"type\":\"DataRange1d\"},\"x_scale\":{\"id\":\"d3798ef4-2d9a-49d8-b62a-f8038573e0ff\",\"type\":\"LinearScale\"},\"y_range\":{\"id\":\"f9eeea61-b946-4678-8092-de3432c6969b\",\"type\":\"DataRange1d\"},\"y_scale\":{\"id\":\"1d981aac-5ebe-4a1b-a953-249bdbf25f5b\",\"type\":\"LinearScale\"}},\"id\":\"f17589c5-9f76-4bca-9117-b11fd7bf99b4\",\"subtype\":\"Figure\",\"type\":\"Plot\"},{\"attributes\":{},\"id\":\"de565528-02e0-4e37-b0b4-5b23a31a7bc3\",\"type\":\"PanTool\"},{\"attributes\":{},\"id\":\"916d67b8-76fa-4ee3-8243-5b926c9ecaba\",\"type\":\"UnionRenderers\"},{\"attributes\":{\"overlay\":{\"id\":\"10e3b164-4f6b-4259-abd5-2ff2e6dc96db\",\"type\":\"BoxAnnotation\"}},\"id\":\"1a346f31-4cdd-4265-af5c-76f8cdba0a96\",\"type\":\"BoxZoomTool\"},{\"attributes\":{},\"id\":\"16e7a6a6-d573-4ef6-87fc-de0784d572cf\",\"type\":\"ResetTool\"},{\"attributes\":{\"line_color\":\"#1f77b4\",\"line_width\":2,\"x\":{\"field\":\"x\"},\"y\":{\"field\":\"y\"}},\"id\":\"827f0add-ec29-420e-a0b9-dd5f7dba6a16\",\"type\":\"Line\"},{\"attributes\":{\"callback\":null},\"id\":\"bbec659f-1793-4d93-85fe-cac4dda99a28\",\"type\":\"DataRange1d\"},{\"attributes\":{},\"id\":\"7afee8f5-3a75-413b-8bee-6b213047cb2b\",\"type\":\"SaveTool\"},{\"attributes\":{},\"id\":\"37578fcf-ff31-4aa4-9882-21b7f28a36d0\",\"type\":\"ResetTool\"},{\"attributes\":{},\"id\":\"431e9f10-e4c1-4a20-b2d6-cf7c44128414\",\"type\":\"HelpTool\"},{\"attributes\":{\"callback\":null,\"data\":{\"x\":[\"1960\",\"1961\",\"1962\",\"1963\",\"1964\",\"1965\",\"1966\",\"1967\",\"1968\",\"1969\",\"1970\",\"1971\",\"1972\",\"1973\",\"1974\",\"1975\",\"1976\",\"1977\",\"1978\",\"1979\",\"1980\",\"1981\",\"1982\",\"1983\",\"1984\",\"1985\",\"1986\",\"1987\",\"1988\",\"1989\",\"1990\",\"1991\",\"1992\",\"1993\",\"1994\",\"1995\",\"1996\",\"1997\",\"1998\",\"1999\",\"2000\",\"2001\",\"2002\",\"2003\",\"2004\",\"2005\",\"2006\",\"2007\",\"2008\",\"2009\",\"2010\",\"2011\",\"2012\",\"2013\",\"2014\",\"2015\",\"2016\"],\"y\":[[\"NaN\"],[210.172806690917],[212.02928422077701],[214.00152665196302],[215.731495431501],[217.579970211669],[219.40340560822602],[220.40883338584499],[221.391212442357],[223.15378798728298],[223.897370606937],[224.308544095323],[225.384389768854],[226.095339844757],[226.183464612036],[225.341717984705],[224.377595737977],[223.870231718844],[223.675479047919],[223.774382035345],[224.239039899178],[224.580835218973],[224.367330220835],[223.77991579067998],[223.00771918769502],[222.50987597742997],[222.61173774811698],[222.953971300089],[223.826709248704],[225.564354251998],[227.517053819494],[229.18080944061],[230.930020336264],[232.45979319431703],[233.27417719343498],[233.96749069034698],[234.65247070955897],[235.022979515829],[235.07877772047402],[235.25773110206902],[235.596813297034],[236.027300085985],[236.45157083070598],[236.61642728132801],[236.592195429653],[236.464680582636],[236.225197866483],[235.94336191814602],[235.522178240542],[234.93963741717099],[234.60690822503398],[234.673149529493],[230.750625466231],[235.647997360418],[232.347793653526],[233.583362024445],[\"NaN\"]]},\"selected\":{\"id\":\"abe8cdcf-692e-4f1d-a8c0-b9e0237586e7\",\"type\":\"Selection\"},\"selection_policy\":{\"id\":\"916d67b8-76fa-4ee3-8243-5b926c9ecaba\",\"type\":\"UnionRenderers\"}},\"id\":\"7271c20f-6b97-4d36-b550-ecd54ae68457\",\"type\":\"ColumnDataSource\"},{\"attributes\":{\"bottom_units\":\"screen\",\"fill_alpha\":{\"value\":0.5},\"fill_color\":{\"value\":\"lightgrey\"},\"left_units\":\"screen\",\"level\":\"overlay\",\"line_alpha\":{\"value\":1.0},\"line_color\":{\"value\":\"black\"},\"line_dash\":[4,4],\"line_width\":{\"value\":2},\"plot\":null,\"render_mode\":\"css\",\"right_units\":\"screen\",\"top_units\":\"screen\"},\"id\":\"10e3b164-4f6b-4259-abd5-2ff2e6dc96db\",\"type\":\"BoxAnnotation\"},{\"attributes\":{\"active_drag\":\"auto\",\"active_inspect\":\"auto\",\"active_multi\":null,\"active_scroll\":\"auto\",\"active_tap\":\"auto\",\"tools\":[{\"id\":\"a8b703cf-c661-4abb-9ce5-9e7d150dec22\",\"type\":\"PanTool\"},{\"id\":\"d561cd3f-65d3-4b53-b329-41d12bc2f4ef\",\"type\":\"WheelZoomTool\"},{\"id\":\"cc822e0d-646b-49f8-9214-f589cdbbc0b2\",\"type\":\"BoxZoomTool\"},{\"id\":\"17d4d512-6412-4f5c-ad00-a6e4024a3579\",\"type\":\"SaveTool\"},{\"id\":\"16e7a6a6-d573-4ef6-87fc-de0784d572cf\",\"type\":\"ResetTool\"},{\"id\":\"db7f3a93-36c3-4b7e-ad0c-79881f1695dd\",\"type\":\"HelpTool\"}]},\"id\":\"f927f416-255d-4779-bd4e-5305fb57055f\",\"type\":\"Toolbar\"},{\"attributes\":{},\"id\":\"01d62fec-3824-47d0-a244-5bb1c378a214\",\"type\":\"BasicTicker\"},{\"attributes\":{},\"id\":\"bf882cec-3a4a-43bf-b5a3-391c1f87571f\",\"type\":\"LinearScale\"},{\"attributes\":{\"axis_label\":\"Year\",\"formatter\":{\"id\":\"7825805a-976b-449b-ba98-929944e699b0\",\"type\":\"BasicTickFormatter\"},\"plot\":{\"id\":\"876b3314-5358-4ac6-9893-6dfc0b614ec4\",\"subtype\":\"Figure\",\"type\":\"Plot\"},\"ticker\":{\"id\":\"01d62fec-3824-47d0-a244-5bb1c378a214\",\"type\":\"BasicTicker\"}},\"id\":\"90cbf21b-a98a-4e29-967b-acf9eb42cbb2\",\"type\":\"LinearAxis\"},{\"attributes\":{\"axis_label\":\"Population Density\",\"formatter\":{\"id\":\"ea1e6102-c63d-4480-a29a-552123bf1d03\",\"type\":\"BasicTickFormatter\"},\"plot\":{\"id\":\"876b3314-5358-4ac6-9893-6dfc0b614ec4\",\"subtype\":\"Figure\",\"type\":\"Plot\"},\"ticker\":{\"id\":\"98716c49-2dbf-40e8-9cef-86b0a5d736cc\",\"type\":\"BasicTicker\"}},\"id\":\"92b712c5-e91b-4604-a0e9-82765795d472\",\"type\":\"LinearAxis\"},{\"attributes\":{},\"id\":\"98716c49-2dbf-40e8-9cef-86b0a5d736cc\",\"type\":\"BasicTicker\"},{\"attributes\":{\"dimension\":1,\"plot\":{\"id\":\"876b3314-5358-4ac6-9893-6dfc0b614ec4\",\"subtype\":\"Figure\",\"type\":\"Plot\"},\"ticker\":{\"id\":\"98716c49-2dbf-40e8-9cef-86b0a5d736cc\",\"type\":\"BasicTicker\"}},\"id\":\"3e17705c-4a9a-4a7f-aaa9-73dbb6517c1c\",\"type\":\"Grid\"},{\"attributes\":{\"children\":[{\"id\":\"44fb0dea-852b-484b-b38b-1f578c30e293\",\"type\":\"Row\"}]},\"id\":\"2a49e499-2128-4948-82dd-9a0b425288b3\",\"type\":\"Column\"},{\"attributes\":{\"below\":[{\"id\":\"90cbf21b-a98a-4e29-967b-acf9eb42cbb2\",\"type\":\"LinearAxis\"}],\"left\":[{\"id\":\"92b712c5-e91b-4604-a0e9-82765795d472\",\"type\":\"LinearAxis\"}],\"plot_height\":300,\"renderers\":[{\"id\":\"90cbf21b-a98a-4e29-967b-acf9eb42cbb2\",\"type\":\"LinearAxis\"},{\"id\":\"c3f4740c-e1ca-4082-be0b-7d9c28b54d4a\",\"type\":\"Grid\"},{\"id\":\"92b712c5-e91b-4604-a0e9-82765795d472\",\"type\":\"LinearAxis\"},{\"id\":\"3e17705c-4a9a-4a7f-aaa9-73dbb6517c1c\",\"type\":\"Grid\"},{\"id\":\"46613aa9-15a4-4077-a803-ab2d2380af4e\",\"type\":\"BoxAnnotation\"},{\"id\":\"63e17d82-f98d-4f95-8e53-04f014f2aba3\",\"type\":\"GlyphRenderer\"}],\"title\":{\"id\":\"3623c533-2e70-406c-a60c-c3b50ddea1c4\",\"type\":\"Title\"},\"toolbar\":{\"id\":\"f927f416-255d-4779-bd4e-5305fb57055f\",\"type\":\"Toolbar\"},\"toolbar_location\":null,\"x_range\":{\"id\":\"bbec659f-1793-4d93-85fe-cac4dda99a28\",\"type\":\"DataRange1d\"},\"x_scale\":{\"id\":\"7526cd38-fd26-4d10-96f0-aa5d075b870b\",\"type\":\"LinearScale\"},\"y_range\":{\"id\":\"f9eeea61-b946-4678-8092-de3432c6969b\",\"type\":\"DataRange1d\"},\"y_scale\":{\"id\":\"bf882cec-3a4a-43bf-b5a3-391c1f87571f\",\"type\":\"LinearScale\"}},\"id\":\"876b3314-5358-4ac6-9893-6dfc0b614ec4\",\"subtype\":\"Figure\",\"type\":\"Plot\"}],\"root_ids\":[\"c971c543-ec84-4c9e-89ee-2ae6967f276c\"]},\"title\":\"Bokeh Application\",\"version\":\"0.13.0\"}};\n",
       "  var render_items = [{\"docid\":\"7d9562f6-54f7-4d17-a43f-0c3e4cd9ed94\",\"roots\":{\"c971c543-ec84-4c9e-89ee-2ae6967f276c\":\"3f04346c-2ea1-4401-924e-23b499fd28b3\"}}];\n",
       "  root.Bokeh.embed.embed_items_notebook(docs_json, render_items);\n",
       "\n",
       "  }\n",
       "  if (root.Bokeh !== undefined) {\n",
       "    embed_document(root);\n",
       "  } else {\n",
       "    var attempts = 0;\n",
       "    var timer = setInterval(function(root) {\n",
       "      if (root.Bokeh !== undefined) {\n",
       "        embed_document(root);\n",
       "        clearInterval(timer);\n",
       "      }\n",
       "      attempts++;\n",
       "      if (attempts > 100) {\n",
       "        console.log(\"Bokeh: ERROR: Unable to run BokehJS code because BokehJS library is missing\")\n",
       "        clearInterval(timer);\n",
       "      }\n",
       "    }, 10, root)\n",
       "  }\n",
       "})(window);"
      ],
      "application/vnd.bokehjs_exec.v0+json": ""
     },
     "metadata": {
      "application/vnd.bokehjs_exec.v0+json": {
       "id": "c971c543-ec84-4c9e-89ee-2ae6967f276c"
      }
     },
     "output_type": "display_data"
    }
   ],
   "source": [
    "# plotting the Germany and Switzerland plot in two different visualizations\n",
    "# that are interconnected in terms of view port\n",
    "from bokeh.layouts import gridplot\n",
    "\n",
    "plot_de = figure(\n",
    "    title='Population Density of Germany', \n",
    "    x_axis_label='Year', \n",
    "    y_axis_label='Population Density',\n",
    "    plot_height=300)\n",
    "\n",
    "plot_ch = figure(\n",
    "    title='Population Density of Switzerland', \n",
    "    x_axis_label='Year', \n",
    "    y_axis_label='Population Density',\n",
    "    plot_height=300,\n",
    "    x_range=plot_de.x_range, \n",
    "    y_range=plot_de.y_range)\n",
    "\n",
    "plot_de.line(years, de_vals, line_width=2)\n",
    "plot_ch.line(years, ch_vals, line_width=2)\n",
    "\n",
    "plot = gridplot([[plot_de, plot_ch]])\n",
    "\n",
    "show(plot)"
   ]
  },
  {
   "cell_type": "markdown",
   "metadata": {},
   "source": [
    "**Note:**   \n",
    "This means that if we provide two lists nested, we can control the output to be printed in a vertically stacked way instead of next to each other."
   ]
  },
  {
   "cell_type": "code",
   "execution_count": 28,
   "metadata": {},
   "outputs": [
    {
     "data": {
      "text/html": [
       "\n",
       "\n",
       "\n",
       "\n",
       "\n",
       "\n",
       "  <div class=\"bk-root\" id=\"3860acb9-aa61-402c-8426-862ef4ca0dac\"></div>\n"
      ]
     },
     "metadata": {},
     "output_type": "display_data"
    },
    {
     "data": {
      "application/javascript": [
       "(function(root) {\n",
       "  function embed_document(root) {\n",
       "    \n",
       "  var docs_json = {\"c47385b2-dc3a-49a1-a833-4ffb030dca81\":{\"roots\":{\"references\":[{\"attributes\":{},\"id\":\"db7f3a93-36c3-4b7e-ad0c-79881f1695dd\",\"type\":\"HelpTool\"},{\"attributes\":{\"children\":[{\"id\":\"25df9819-c1ca-4e43-90a1-ac7b81d0fe17\",\"type\":\"ToolbarBox\"},{\"id\":\"78c7072c-cbd0-497a-acac-a2be2dc91151\",\"type\":\"Column\"}]},\"id\":\"7d509a8b-293a-47b2-adcd-60d55e91df47\",\"type\":\"Column\"},{\"attributes\":{\"plot\":null,\"text\":\"Population Density of Germany\"},\"id\":\"5ae334f7-22ec-4a3c-b037-2d2b6bf0effa\",\"type\":\"Title\"},{\"attributes\":{},\"id\":\"17d4d512-6412-4f5c-ad00-a6e4024a3579\",\"type\":\"SaveTool\"},{\"attributes\":{},\"id\":\"d561cd3f-65d3-4b53-b329-41d12bc2f4ef\",\"type\":\"WheelZoomTool\"},{\"attributes\":{\"bottom_units\":\"screen\",\"fill_alpha\":{\"value\":0.5},\"fill_color\":{\"value\":\"lightgrey\"},\"left_units\":\"screen\",\"level\":\"overlay\",\"line_alpha\":{\"value\":1.0},\"line_color\":{\"value\":\"black\"},\"line_dash\":[4,4],\"line_width\":{\"value\":2},\"plot\":null,\"render_mode\":\"css\",\"right_units\":\"screen\",\"top_units\":\"screen\"},\"id\":\"46613aa9-15a4-4077-a803-ab2d2380af4e\",\"type\":\"BoxAnnotation\"},{\"attributes\":{\"active_drag\":\"auto\",\"active_inspect\":\"auto\",\"active_multi\":null,\"active_scroll\":\"auto\",\"active_tap\":\"auto\",\"tools\":[{\"id\":\"de565528-02e0-4e37-b0b4-5b23a31a7bc3\",\"type\":\"PanTool\"},{\"id\":\"0d3a44fa-813f-4359-a0b5-1bece139c20e\",\"type\":\"WheelZoomTool\"},{\"id\":\"1a346f31-4cdd-4265-af5c-76f8cdba0a96\",\"type\":\"BoxZoomTool\"},{\"id\":\"7afee8f5-3a75-413b-8bee-6b213047cb2b\",\"type\":\"SaveTool\"},{\"id\":\"37578fcf-ff31-4aa4-9882-21b7f28a36d0\",\"type\":\"ResetTool\"},{\"id\":\"431e9f10-e4c1-4a20-b2d6-cf7c44128414\",\"type\":\"HelpTool\"}]},\"id\":\"2f13fe50-5666-4696-ac30-65ada61f674e\",\"type\":\"Toolbar\"},{\"attributes\":{},\"id\":\"dc57638a-11de-4f38-9221-59f9d1ec6c31\",\"type\":\"BasicTickFormatter\"},{\"attributes\":{\"plot\":null,\"text\":\"Population Density of Switzerland\"},\"id\":\"3623c533-2e70-406c-a60c-c3b50ddea1c4\",\"type\":\"Title\"},{\"attributes\":{\"source\":{\"id\":\"fdf6a7d0-908f-49b3-af18-0bc626898845\",\"type\":\"ColumnDataSource\"}},\"id\":\"0b630d7b-678e-4c7e-94fe-ca33b60531d0\",\"type\":\"CDSView\"},{\"attributes\":{},\"id\":\"1d981aac-5ebe-4a1b-a953-249bdbf25f5b\",\"type\":\"LinearScale\"},{\"attributes\":{\"axis_label\":\"Year\",\"formatter\":{\"id\":\"dc57638a-11de-4f38-9221-59f9d1ec6c31\",\"type\":\"BasicTickFormatter\"},\"plot\":{\"id\":\"f17589c5-9f76-4bca-9117-b11fd7bf99b4\",\"subtype\":\"Figure\",\"type\":\"Plot\"},\"ticker\":{\"id\":\"e0974cf9-bcb0-45fa-ae41-ae999e9b31b8\",\"type\":\"BasicTicker\"}},\"id\":\"6459a046-e6bb-4ebf-bbac-36f3a514cc6a\",\"type\":\"LinearAxis\"},{\"attributes\":{},\"id\":\"606dc02b-3665-4deb-b9ce-d4d2e6edafc8\",\"type\":\"BasicTickFormatter\"},{\"attributes\":{\"children\":[{\"id\":\"f17589c5-9f76-4bca-9117-b11fd7bf99b4\",\"subtype\":\"Figure\",\"type\":\"Plot\"}]},\"id\":\"670c2b62-2b39-4d65-91b5-a9e2905c287a\",\"type\":\"Row\"},{\"attributes\":{},\"id\":\"e0974cf9-bcb0-45fa-ae41-ae999e9b31b8\",\"type\":\"BasicTicker\"},{\"attributes\":{},\"id\":\"c2e14d8b-019d-4676-a8f1-a0fde81d811e\",\"type\":\"UnionRenderers\"},{\"attributes\":{},\"id\":\"d3798ef4-2d9a-49d8-b62a-f8038573e0ff\",\"type\":\"LinearScale\"},{\"attributes\":{\"overlay\":{\"id\":\"46613aa9-15a4-4077-a803-ab2d2380af4e\",\"type\":\"BoxAnnotation\"}},\"id\":\"cc822e0d-646b-49f8-9214-f589cdbbc0b2\",\"type\":\"BoxZoomTool\"},{\"attributes\":{},\"id\":\"abe8cdcf-692e-4f1d-a8c0-b9e0237586e7\",\"type\":\"Selection\"},{\"attributes\":{\"callback\":null},\"id\":\"f9eeea61-b946-4678-8092-de3432c6969b\",\"type\":\"DataRange1d\"},{\"attributes\":{},\"id\":\"7825805a-976b-449b-ba98-929944e699b0\",\"type\":\"BasicTickFormatter\"},{\"attributes\":{},\"id\":\"ea1e6102-c63d-4480-a29a-552123bf1d03\",\"type\":\"BasicTickFormatter\"},{\"attributes\":{},\"id\":\"0d3a44fa-813f-4359-a0b5-1bece139c20e\",\"type\":\"WheelZoomTool\"},{\"attributes\":{\"callback\":null,\"data\":{\"x\":[\"1960\",\"1961\",\"1962\",\"1963\",\"1964\",\"1965\",\"1966\",\"1967\",\"1968\",\"1969\",\"1970\",\"1971\",\"1972\",\"1973\",\"1974\",\"1975\",\"1976\",\"1977\",\"1978\",\"1979\",\"1980\",\"1981\",\"1982\",\"1983\",\"1984\",\"1985\",\"1986\",\"1987\",\"1988\",\"1989\",\"1990\",\"1991\",\"1992\",\"1993\",\"1994\",\"1995\",\"1996\",\"1997\",\"1998\",\"1999\",\"2000\",\"2001\",\"2002\",\"2003\",\"2004\",\"2005\",\"2006\",\"2007\",\"2008\",\"2009\",\"2010\",\"2011\",\"2012\",\"2013\",\"2014\",\"2015\",\"2016\"],\"y\":[[\"NaN\"],[137.479609390812],[141.009284557782],[144.056036227484],[146.458915199352],[148.160089050799],[149.716707144303],[151.583308034811],[153.504199554746],[155.24152499494],[156.36705626391398],[157.189814814815],[158.392936652499],[159.566560412872],[160.42817749443398],[160.358024691358],[159.444039668083],[158.904422181745],[158.918690548472],[159.238134992916],[159.871685893544],[160.74868447682698],[161.690674964582],[162.385473588342],[162.96554428394302],[163.686533937109],[164.540565154697],[165.577322978067],[166.798704748413],[168.152799210706],[169.888411039996],[172.02504490374199],[173.932151078955],[175.523413190316],[176.928204609274],[178.11447291861697],[178.90735681036202],[179.34338553393903],[179.88162222334702],[180.746135357369],[181.76930472624198],[182.9277635807],[184.321466524973],[185.698767743731],[186.984438259109],[188.195632370059],[189.385176000202],[191.090115396295],[193.53363194655302],[195.966975402369],[198.01875189796502],[200.23276647433997],[202.370204474137],[204.71064885109797],[207.223630934305],[209.711914161352],[\"NaN\"]]},\"selected\":{\"id\":\"6f7260cb-6627-4745-b5b6-c4e75fd118d9\",\"type\":\"Selection\"},\"selection_policy\":{\"id\":\"c2e14d8b-019d-4676-a8f1-a0fde81d811e\",\"type\":\"UnionRenderers\"}},\"id\":\"fdf6a7d0-908f-49b3-af18-0bc626898845\",\"type\":\"ColumnDataSource\"},{\"attributes\":{},\"id\":\"6f7260cb-6627-4745-b5b6-c4e75fd118d9\",\"type\":\"Selection\"},{\"attributes\":{\"plot\":{\"id\":\"f17589c5-9f76-4bca-9117-b11fd7bf99b4\",\"subtype\":\"Figure\",\"type\":\"Plot\"},\"ticker\":{\"id\":\"e0974cf9-bcb0-45fa-ae41-ae999e9b31b8\",\"type\":\"BasicTicker\"}},\"id\":\"8e28741a-6931-4b34-8167-3877bd118e2c\",\"type\":\"Grid\"},{\"attributes\":{\"children\":[{\"id\":\"876b3314-5358-4ac6-9893-6dfc0b614ec4\",\"subtype\":\"Figure\",\"type\":\"Plot\"}]},\"id\":\"a39b18f2-e5a0-4044-8dda-3a83f83191fb\",\"type\":\"Row\"},{\"attributes\":{\"line_color\":\"#1f77b4\",\"line_width\":2,\"x\":{\"field\":\"x\"},\"y\":{\"field\":\"y\"}},\"id\":\"6b8647cf-6291-4018-bc28-9ea600be9648\",\"type\":\"Line\"},{\"attributes\":{\"axis_label\":\"Population Density\",\"formatter\":{\"id\":\"606dc02b-3665-4deb-b9ce-d4d2e6edafc8\",\"type\":\"BasicTickFormatter\"},\"plot\":{\"id\":\"f17589c5-9f76-4bca-9117-b11fd7bf99b4\",\"subtype\":\"Figure\",\"type\":\"Plot\"},\"ticker\":{\"id\":\"ef103322-a153-4364-825f-d3f4132d4bf9\",\"type\":\"BasicTicker\"}},\"id\":\"463b63a1-920b-4194-a44f-eb12e64801c3\",\"type\":\"LinearAxis\"},{\"attributes\":{},\"id\":\"ef103322-a153-4364-825f-d3f4132d4bf9\",\"type\":\"BasicTicker\"},{\"attributes\":{\"dimension\":1,\"plot\":{\"id\":\"f17589c5-9f76-4bca-9117-b11fd7bf99b4\",\"subtype\":\"Figure\",\"type\":\"Plot\"},\"ticker\":{\"id\":\"ef103322-a153-4364-825f-d3f4132d4bf9\",\"type\":\"BasicTicker\"}},\"id\":\"c64825fe-a277-41ee-8e14-2e299b782bad\",\"type\":\"Grid\"},{\"attributes\":{\"line_alpha\":0.1,\"line_color\":\"#1f77b4\",\"line_width\":2,\"x\":{\"field\":\"x\"},\"y\":{\"field\":\"y\"}},\"id\":\"fab11f2a-273f-420f-9f37-153a5d219f10\",\"type\":\"Line\"},{\"attributes\":{},\"id\":\"7526cd38-fd26-4d10-96f0-aa5d075b870b\",\"type\":\"LinearScale\"},{\"attributes\":{\"data_source\":{\"id\":\"fdf6a7d0-908f-49b3-af18-0bc626898845\",\"type\":\"ColumnDataSource\"},\"glyph\":{\"id\":\"6b8647cf-6291-4018-bc28-9ea600be9648\",\"type\":\"Line\"},\"hover_glyph\":null,\"muted_glyph\":null,\"nonselection_glyph\":{\"id\":\"53bc7bb7-5037-46ba-b5e6-8a089baa6540\",\"type\":\"Line\"},\"selection_glyph\":null,\"view\":{\"id\":\"0b630d7b-678e-4c7e-94fe-ca33b60531d0\",\"type\":\"CDSView\"}},\"id\":\"63e17d82-f98d-4f95-8e53-04f014f2aba3\",\"type\":\"GlyphRenderer\"},{\"attributes\":{\"source\":{\"id\":\"7271c20f-6b97-4d36-b550-ecd54ae68457\",\"type\":\"ColumnDataSource\"}},\"id\":\"06175f2e-0b04-4cd7-a17a-2385f02c7c98\",\"type\":\"CDSView\"},{\"attributes\":{\"line_alpha\":0.1,\"line_color\":\"#1f77b4\",\"line_width\":2,\"x\":{\"field\":\"x\"},\"y\":{\"field\":\"y\"}},\"id\":\"53bc7bb7-5037-46ba-b5e6-8a089baa6540\",\"type\":\"Line\"},{\"attributes\":{\"data_source\":{\"id\":\"7271c20f-6b97-4d36-b550-ecd54ae68457\",\"type\":\"ColumnDataSource\"},\"glyph\":{\"id\":\"827f0add-ec29-420e-a0b9-dd5f7dba6a16\",\"type\":\"Line\"},\"hover_glyph\":null,\"muted_glyph\":null,\"nonselection_glyph\":{\"id\":\"fab11f2a-273f-420f-9f37-153a5d219f10\",\"type\":\"Line\"},\"selection_glyph\":null,\"view\":{\"id\":\"06175f2e-0b04-4cd7-a17a-2385f02c7c98\",\"type\":\"CDSView\"}},\"id\":\"5aaf5347-4259-4ee6-b02e-ca3a3ee54c42\",\"type\":\"GlyphRenderer\"},{\"attributes\":{},\"id\":\"a8b703cf-c661-4abb-9ce5-9e7d150dec22\",\"type\":\"PanTool\"},{\"attributes\":{\"plot\":{\"id\":\"876b3314-5358-4ac6-9893-6dfc0b614ec4\",\"subtype\":\"Figure\",\"type\":\"Plot\"},\"ticker\":{\"id\":\"01d62fec-3824-47d0-a244-5bb1c378a214\",\"type\":\"BasicTicker\"}},\"id\":\"c3f4740c-e1ca-4082-be0b-7d9c28b54d4a\",\"type\":\"Grid\"},{\"attributes\":{\"below\":[{\"id\":\"6459a046-e6bb-4ebf-bbac-36f3a514cc6a\",\"type\":\"LinearAxis\"}],\"left\":[{\"id\":\"463b63a1-920b-4194-a44f-eb12e64801c3\",\"type\":\"LinearAxis\"}],\"plot_height\":300,\"renderers\":[{\"id\":\"6459a046-e6bb-4ebf-bbac-36f3a514cc6a\",\"type\":\"LinearAxis\"},{\"id\":\"8e28741a-6931-4b34-8167-3877bd118e2c\",\"type\":\"Grid\"},{\"id\":\"463b63a1-920b-4194-a44f-eb12e64801c3\",\"type\":\"LinearAxis\"},{\"id\":\"c64825fe-a277-41ee-8e14-2e299b782bad\",\"type\":\"Grid\"},{\"id\":\"10e3b164-4f6b-4259-abd5-2ff2e6dc96db\",\"type\":\"BoxAnnotation\"},{\"id\":\"5aaf5347-4259-4ee6-b02e-ca3a3ee54c42\",\"type\":\"GlyphRenderer\"}],\"title\":{\"id\":\"5ae334f7-22ec-4a3c-b037-2d2b6bf0effa\",\"type\":\"Title\"},\"toolbar\":{\"id\":\"2f13fe50-5666-4696-ac30-65ada61f674e\",\"type\":\"Toolbar\"},\"toolbar_location\":null,\"x_range\":{\"id\":\"bbec659f-1793-4d93-85fe-cac4dda99a28\",\"type\":\"DataRange1d\"},\"x_scale\":{\"id\":\"d3798ef4-2d9a-49d8-b62a-f8038573e0ff\",\"type\":\"LinearScale\"},\"y_range\":{\"id\":\"f9eeea61-b946-4678-8092-de3432c6969b\",\"type\":\"DataRange1d\"},\"y_scale\":{\"id\":\"1d981aac-5ebe-4a1b-a953-249bdbf25f5b\",\"type\":\"LinearScale\"}},\"id\":\"f17589c5-9f76-4bca-9117-b11fd7bf99b4\",\"subtype\":\"Figure\",\"type\":\"Plot\"},{\"attributes\":{},\"id\":\"de565528-02e0-4e37-b0b4-5b23a31a7bc3\",\"type\":\"PanTool\"},{\"attributes\":{},\"id\":\"916d67b8-76fa-4ee3-8243-5b926c9ecaba\",\"type\":\"UnionRenderers\"},{\"attributes\":{\"overlay\":{\"id\":\"10e3b164-4f6b-4259-abd5-2ff2e6dc96db\",\"type\":\"BoxAnnotation\"}},\"id\":\"1a346f31-4cdd-4265-af5c-76f8cdba0a96\",\"type\":\"BoxZoomTool\"},{\"attributes\":{\"toolbar\":{\"id\":\"03d23760-c1d3-4678-9947-a3b8fcd10a20\",\"type\":\"ProxyToolbar\"},\"toolbar_location\":\"above\"},\"id\":\"25df9819-c1ca-4e43-90a1-ac7b81d0fe17\",\"type\":\"ToolbarBox\"},{\"attributes\":{},\"id\":\"16e7a6a6-d573-4ef6-87fc-de0784d572cf\",\"type\":\"ResetTool\"},{\"attributes\":{\"line_color\":\"#1f77b4\",\"line_width\":2,\"x\":{\"field\":\"x\"},\"y\":{\"field\":\"y\"}},\"id\":\"827f0add-ec29-420e-a0b9-dd5f7dba6a16\",\"type\":\"Line\"},{\"attributes\":{\"callback\":null},\"id\":\"bbec659f-1793-4d93-85fe-cac4dda99a28\",\"type\":\"DataRange1d\"},{\"attributes\":{},\"id\":\"7afee8f5-3a75-413b-8bee-6b213047cb2b\",\"type\":\"SaveTool\"},{\"attributes\":{},\"id\":\"37578fcf-ff31-4aa4-9882-21b7f28a36d0\",\"type\":\"ResetTool\"},{\"attributes\":{},\"id\":\"431e9f10-e4c1-4a20-b2d6-cf7c44128414\",\"type\":\"HelpTool\"},{\"attributes\":{\"callback\":null,\"data\":{\"x\":[\"1960\",\"1961\",\"1962\",\"1963\",\"1964\",\"1965\",\"1966\",\"1967\",\"1968\",\"1969\",\"1970\",\"1971\",\"1972\",\"1973\",\"1974\",\"1975\",\"1976\",\"1977\",\"1978\",\"1979\",\"1980\",\"1981\",\"1982\",\"1983\",\"1984\",\"1985\",\"1986\",\"1987\",\"1988\",\"1989\",\"1990\",\"1991\",\"1992\",\"1993\",\"1994\",\"1995\",\"1996\",\"1997\",\"1998\",\"1999\",\"2000\",\"2001\",\"2002\",\"2003\",\"2004\",\"2005\",\"2006\",\"2007\",\"2008\",\"2009\",\"2010\",\"2011\",\"2012\",\"2013\",\"2014\",\"2015\",\"2016\"],\"y\":[[\"NaN\"],[210.172806690917],[212.02928422077701],[214.00152665196302],[215.731495431501],[217.579970211669],[219.40340560822602],[220.40883338584499],[221.391212442357],[223.15378798728298],[223.897370606937],[224.308544095323],[225.384389768854],[226.095339844757],[226.183464612036],[225.341717984705],[224.377595737977],[223.870231718844],[223.675479047919],[223.774382035345],[224.239039899178],[224.580835218973],[224.367330220835],[223.77991579067998],[223.00771918769502],[222.50987597742997],[222.61173774811698],[222.953971300089],[223.826709248704],[225.564354251998],[227.517053819494],[229.18080944061],[230.930020336264],[232.45979319431703],[233.27417719343498],[233.96749069034698],[234.65247070955897],[235.022979515829],[235.07877772047402],[235.25773110206902],[235.596813297034],[236.027300085985],[236.45157083070598],[236.61642728132801],[236.592195429653],[236.464680582636],[236.225197866483],[235.94336191814602],[235.522178240542],[234.93963741717099],[234.60690822503398],[234.673149529493],[230.750625466231],[235.647997360418],[232.347793653526],[233.583362024445],[\"NaN\"]]},\"selected\":{\"id\":\"abe8cdcf-692e-4f1d-a8c0-b9e0237586e7\",\"type\":\"Selection\"},\"selection_policy\":{\"id\":\"916d67b8-76fa-4ee3-8243-5b926c9ecaba\",\"type\":\"UnionRenderers\"}},\"id\":\"7271c20f-6b97-4d36-b550-ecd54ae68457\",\"type\":\"ColumnDataSource\"},{\"attributes\":{\"bottom_units\":\"screen\",\"fill_alpha\":{\"value\":0.5},\"fill_color\":{\"value\":\"lightgrey\"},\"left_units\":\"screen\",\"level\":\"overlay\",\"line_alpha\":{\"value\":1.0},\"line_color\":{\"value\":\"black\"},\"line_dash\":[4,4],\"line_width\":{\"value\":2},\"plot\":null,\"render_mode\":\"css\",\"right_units\":\"screen\",\"top_units\":\"screen\"},\"id\":\"10e3b164-4f6b-4259-abd5-2ff2e6dc96db\",\"type\":\"BoxAnnotation\"},{\"attributes\":{\"children\":[{\"id\":\"670c2b62-2b39-4d65-91b5-a9e2905c287a\",\"type\":\"Row\"},{\"id\":\"a39b18f2-e5a0-4044-8dda-3a83f83191fb\",\"type\":\"Row\"}]},\"id\":\"78c7072c-cbd0-497a-acac-a2be2dc91151\",\"type\":\"Column\"},{\"attributes\":{\"active_drag\":\"auto\",\"active_inspect\":\"auto\",\"active_multi\":null,\"active_scroll\":\"auto\",\"active_tap\":\"auto\",\"tools\":[{\"id\":\"a8b703cf-c661-4abb-9ce5-9e7d150dec22\",\"type\":\"PanTool\"},{\"id\":\"d561cd3f-65d3-4b53-b329-41d12bc2f4ef\",\"type\":\"WheelZoomTool\"},{\"id\":\"cc822e0d-646b-49f8-9214-f589cdbbc0b2\",\"type\":\"BoxZoomTool\"},{\"id\":\"17d4d512-6412-4f5c-ad00-a6e4024a3579\",\"type\":\"SaveTool\"},{\"id\":\"16e7a6a6-d573-4ef6-87fc-de0784d572cf\",\"type\":\"ResetTool\"},{\"id\":\"db7f3a93-36c3-4b7e-ad0c-79881f1695dd\",\"type\":\"HelpTool\"}]},\"id\":\"f927f416-255d-4779-bd4e-5305fb57055f\",\"type\":\"Toolbar\"},{\"attributes\":{},\"id\":\"01d62fec-3824-47d0-a244-5bb1c378a214\",\"type\":\"BasicTicker\"},{\"attributes\":{},\"id\":\"bf882cec-3a4a-43bf-b5a3-391c1f87571f\",\"type\":\"LinearScale\"},{\"attributes\":{\"axis_label\":\"Year\",\"formatter\":{\"id\":\"7825805a-976b-449b-ba98-929944e699b0\",\"type\":\"BasicTickFormatter\"},\"plot\":{\"id\":\"876b3314-5358-4ac6-9893-6dfc0b614ec4\",\"subtype\":\"Figure\",\"type\":\"Plot\"},\"ticker\":{\"id\":\"01d62fec-3824-47d0-a244-5bb1c378a214\",\"type\":\"BasicTicker\"}},\"id\":\"90cbf21b-a98a-4e29-967b-acf9eb42cbb2\",\"type\":\"LinearAxis\"},{\"attributes\":{\"axis_label\":\"Population Density\",\"formatter\":{\"id\":\"ea1e6102-c63d-4480-a29a-552123bf1d03\",\"type\":\"BasicTickFormatter\"},\"plot\":{\"id\":\"876b3314-5358-4ac6-9893-6dfc0b614ec4\",\"subtype\":\"Figure\",\"type\":\"Plot\"},\"ticker\":{\"id\":\"98716c49-2dbf-40e8-9cef-86b0a5d736cc\",\"type\":\"BasicTicker\"}},\"id\":\"92b712c5-e91b-4604-a0e9-82765795d472\",\"type\":\"LinearAxis\"},{\"attributes\":{},\"id\":\"98716c49-2dbf-40e8-9cef-86b0a5d736cc\",\"type\":\"BasicTicker\"},{\"attributes\":{\"tools\":[{\"id\":\"de565528-02e0-4e37-b0b4-5b23a31a7bc3\",\"type\":\"PanTool\"},{\"id\":\"0d3a44fa-813f-4359-a0b5-1bece139c20e\",\"type\":\"WheelZoomTool\"},{\"id\":\"1a346f31-4cdd-4265-af5c-76f8cdba0a96\",\"type\":\"BoxZoomTool\"},{\"id\":\"7afee8f5-3a75-413b-8bee-6b213047cb2b\",\"type\":\"SaveTool\"},{\"id\":\"37578fcf-ff31-4aa4-9882-21b7f28a36d0\",\"type\":\"ResetTool\"},{\"id\":\"431e9f10-e4c1-4a20-b2d6-cf7c44128414\",\"type\":\"HelpTool\"},{\"id\":\"a8b703cf-c661-4abb-9ce5-9e7d150dec22\",\"type\":\"PanTool\"},{\"id\":\"d561cd3f-65d3-4b53-b329-41d12bc2f4ef\",\"type\":\"WheelZoomTool\"},{\"id\":\"cc822e0d-646b-49f8-9214-f589cdbbc0b2\",\"type\":\"BoxZoomTool\"},{\"id\":\"17d4d512-6412-4f5c-ad00-a6e4024a3579\",\"type\":\"SaveTool\"},{\"id\":\"16e7a6a6-d573-4ef6-87fc-de0784d572cf\",\"type\":\"ResetTool\"},{\"id\":\"db7f3a93-36c3-4b7e-ad0c-79881f1695dd\",\"type\":\"HelpTool\"}]},\"id\":\"03d23760-c1d3-4678-9947-a3b8fcd10a20\",\"type\":\"ProxyToolbar\"},{\"attributes\":{\"dimension\":1,\"plot\":{\"id\":\"876b3314-5358-4ac6-9893-6dfc0b614ec4\",\"subtype\":\"Figure\",\"type\":\"Plot\"},\"ticker\":{\"id\":\"98716c49-2dbf-40e8-9cef-86b0a5d736cc\",\"type\":\"BasicTicker\"}},\"id\":\"3e17705c-4a9a-4a7f-aaa9-73dbb6517c1c\",\"type\":\"Grid\"},{\"attributes\":{\"below\":[{\"id\":\"90cbf21b-a98a-4e29-967b-acf9eb42cbb2\",\"type\":\"LinearAxis\"}],\"left\":[{\"id\":\"92b712c5-e91b-4604-a0e9-82765795d472\",\"type\":\"LinearAxis\"}],\"plot_height\":300,\"renderers\":[{\"id\":\"90cbf21b-a98a-4e29-967b-acf9eb42cbb2\",\"type\":\"LinearAxis\"},{\"id\":\"c3f4740c-e1ca-4082-be0b-7d9c28b54d4a\",\"type\":\"Grid\"},{\"id\":\"92b712c5-e91b-4604-a0e9-82765795d472\",\"type\":\"LinearAxis\"},{\"id\":\"3e17705c-4a9a-4a7f-aaa9-73dbb6517c1c\",\"type\":\"Grid\"},{\"id\":\"46613aa9-15a4-4077-a803-ab2d2380af4e\",\"type\":\"BoxAnnotation\"},{\"id\":\"63e17d82-f98d-4f95-8e53-04f014f2aba3\",\"type\":\"GlyphRenderer\"}],\"title\":{\"id\":\"3623c533-2e70-406c-a60c-c3b50ddea1c4\",\"type\":\"Title\"},\"toolbar\":{\"id\":\"f927f416-255d-4779-bd4e-5305fb57055f\",\"type\":\"Toolbar\"},\"toolbar_location\":null,\"x_range\":{\"id\":\"bbec659f-1793-4d93-85fe-cac4dda99a28\",\"type\":\"DataRange1d\"},\"x_scale\":{\"id\":\"7526cd38-fd26-4d10-96f0-aa5d075b870b\",\"type\":\"LinearScale\"},\"y_range\":{\"id\":\"f9eeea61-b946-4678-8092-de3432c6969b\",\"type\":\"DataRange1d\"},\"y_scale\":{\"id\":\"bf882cec-3a4a-43bf-b5a3-391c1f87571f\",\"type\":\"LinearScale\"}},\"id\":\"876b3314-5358-4ac6-9893-6dfc0b614ec4\",\"subtype\":\"Figure\",\"type\":\"Plot\"}],\"root_ids\":[\"7d509a8b-293a-47b2-adcd-60d55e91df47\"]},\"title\":\"Bokeh Application\",\"version\":\"0.13.0\"}};\n",
       "  var render_items = [{\"docid\":\"c47385b2-dc3a-49a1-a833-4ffb030dca81\",\"roots\":{\"7d509a8b-293a-47b2-adcd-60d55e91df47\":\"3860acb9-aa61-402c-8426-862ef4ca0dac\"}}];\n",
       "  root.Bokeh.embed.embed_items_notebook(docs_json, render_items);\n",
       "\n",
       "  }\n",
       "  if (root.Bokeh !== undefined) {\n",
       "    embed_document(root);\n",
       "  } else {\n",
       "    var attempts = 0;\n",
       "    var timer = setInterval(function(root) {\n",
       "      if (root.Bokeh !== undefined) {\n",
       "        embed_document(root);\n",
       "        clearInterval(timer);\n",
       "      }\n",
       "      attempts++;\n",
       "      if (attempts > 100) {\n",
       "        console.log(\"Bokeh: ERROR: Unable to run BokehJS code because BokehJS library is missing\")\n",
       "        clearInterval(timer);\n",
       "      }\n",
       "    }, 10, root)\n",
       "  }\n",
       "})(window);"
      ],
      "application/vnd.bokehjs_exec.v0+json": ""
     },
     "metadata": {
      "application/vnd.bokehjs_exec.v0+json": {
       "id": "7d509a8b-293a-47b2-adcd-60d55e91df47"
      }
     },
     "output_type": "display_data"
    }
   ],
   "source": [
    "# plotting the above declared figures in a vertical manner\n",
    "plot_v = gridplot([[plot_de], [plot_ch]])\n",
    "\n",
    "show(plot_v)"
   ]
  },
  {
   "cell_type": "markdown",
   "metadata": {},
   "source": [
    "We can see that as soon we have our data prepared, it's fairly simple to visualize the data in a simple plot.   \n",
    "Using the `bokeh.plotting` interface allows us to display the data with different, so called, `glyphs` without much work.   "
   ]
  }
 ],
 "metadata": {
  "kernelspec": {
   "display_name": "Python 3",
   "language": "python",
   "name": "python3"
  },
  "language_info": {
   "codemirror_mode": {
    "name": "ipython",
    "version": 3
   },
   "file_extension": ".py",
   "mimetype": "text/x-python",
   "name": "python",
   "nbconvert_exporter": "python",
   "pygments_lexer": "ipython3",
   "version": "3.7.0"
  }
 },
 "nbformat": 4,
 "nbformat_minor": 2
}
